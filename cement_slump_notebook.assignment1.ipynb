{
 "cells": [
  {
   "cell_type": "markdown",
   "metadata": {
    "id": "eHhytqKxLkKN"
   },
   "source": [
    "# Concrete Slump Test Regression"
   ]
  },
  {
   "cell_type": "markdown",
   "metadata": {
    "id": "FyMIezE2LkKR"
   },
   "source": [
    "The concrete slump test measures the consistency of fresh concrete before it sets. It is performed to check the workability of freshly made concrete, and therefore the ease with which concrete flows. It can also be used as an indicator of an improperly mixed batch.\n",
    "\n",
    "<img src=\"https://i0.wp.com/civiconcepts.com/wp-content/uploads/2019/08/Slump-Cone-test-of-concrete.jpg?fit=977%2C488&ssl=1\">\n",
    "\n",
    "Our data set consists of various cement properties and the resulting slump test metrics in cm. Later on the set concrete is tested for its compressive strength 28 days later.\n",
    "\n",
    "Input variables (9):\n",
    "\n",
    "(component kg in one M^3 concrete)(7):\n",
    "* Cement\n",
    "* Slag\n",
    "* Fly ash\n",
    "* Water\n",
    "* SP\n",
    "* Coarse Aggr.\n",
    "* Fine Aggr.\n",
    "\n",
    "(Measurements)(2)\n",
    "* SLUMP (cm)\n",
    "* FLOW (cm)\n",
    "\n",
    "Target variable (1):\n",
    "* **28-day Compressive Strength (Mpa)**\n",
    "\n",
    "Data Source: https://archive.ics.uci.edu/ml/datasets/Concrete+Slump+Test\n",
    "\n",
    "*Credit: Yeh, I-Cheng, \"Modeling slump flow of concrete using second-order regressions and artificial neural networks,\" Cement and Concrete Composites, Vol.29, No. 6, 474-480, 2007.*"
   ]
  },
  {
   "cell_type": "markdown",
   "metadata": {
    "id": "Ml-0HrEBLkKU"
   },
   "source": [
    "# Importing dependencies"
   ]
  },
  {
   "cell_type": "code",
   "execution_count": 1,
   "metadata": {
    "id": "SLDkU8VtZiFx"
   },
   "outputs": [],
   "source": [
    "import numpy as np\n",
    "import pandas as pd\n",
    "import seaborn as sns\n",
    "import matplotlib.pyplot as plt\n",
    "#%matplotlib inline\n",
    "#%matplotlib notebook\n",
    "plt.rcParams[\"figure.figsize\"] = (10,6)\n",
    "import warnings\n",
    "warnings.filterwarnings(\"ignore\")\n",
    "warnings.warn(\"this will not show\")\n",
    "pd.set_option('display.float_format', lambda x: '%.3f' % x)"
   ]
  },
  {
   "cell_type": "markdown",
   "metadata": {
    "id": "LU3s6xZXLkKW"
   },
   "source": [
    "# Loading data"
   ]
  },
  {
   "cell_type": "code",
   "execution_count": 2,
   "metadata": {
    "id": "uT2BCHzfLvLu"
   },
   "outputs": [],
   "source": [
    "df = pd.read_csv(\"cement_slump.csv\")"
   ]
  },
  {
   "cell_type": "code",
   "execution_count": 3,
   "metadata": {},
   "outputs": [
    {
     "data": {
      "text/html": [
       "<div>\n",
       "<style scoped>\n",
       "    .dataframe tbody tr th:only-of-type {\n",
       "        vertical-align: middle;\n",
       "    }\n",
       "\n",
       "    .dataframe tbody tr th {\n",
       "        vertical-align: top;\n",
       "    }\n",
       "\n",
       "    .dataframe thead th {\n",
       "        text-align: right;\n",
       "    }\n",
       "</style>\n",
       "<table border=\"1\" class=\"dataframe\">\n",
       "  <thead>\n",
       "    <tr style=\"text-align: right;\">\n",
       "      <th></th>\n",
       "      <th>Cement</th>\n",
       "      <th>Slag</th>\n",
       "      <th>Fly ash</th>\n",
       "      <th>Water</th>\n",
       "      <th>SP</th>\n",
       "      <th>Coarse Aggr.</th>\n",
       "      <th>Fine Aggr.</th>\n",
       "      <th>SLUMP(cm)</th>\n",
       "      <th>FLOW(cm)</th>\n",
       "      <th>Compressive Strength (28-day)(Mpa)</th>\n",
       "    </tr>\n",
       "  </thead>\n",
       "  <tbody>\n",
       "    <tr>\n",
       "      <th>0</th>\n",
       "      <td>273.000</td>\n",
       "      <td>82.000</td>\n",
       "      <td>105.000</td>\n",
       "      <td>210.000</td>\n",
       "      <td>9.000</td>\n",
       "      <td>904.000</td>\n",
       "      <td>680.000</td>\n",
       "      <td>23.000</td>\n",
       "      <td>62.000</td>\n",
       "      <td>34.990</td>\n",
       "    </tr>\n",
       "    <tr>\n",
       "      <th>1</th>\n",
       "      <td>163.000</td>\n",
       "      <td>149.000</td>\n",
       "      <td>191.000</td>\n",
       "      <td>180.000</td>\n",
       "      <td>12.000</td>\n",
       "      <td>843.000</td>\n",
       "      <td>746.000</td>\n",
       "      <td>0.000</td>\n",
       "      <td>20.000</td>\n",
       "      <td>41.140</td>\n",
       "    </tr>\n",
       "    <tr>\n",
       "      <th>2</th>\n",
       "      <td>162.000</td>\n",
       "      <td>148.000</td>\n",
       "      <td>191.000</td>\n",
       "      <td>179.000</td>\n",
       "      <td>16.000</td>\n",
       "      <td>840.000</td>\n",
       "      <td>743.000</td>\n",
       "      <td>1.000</td>\n",
       "      <td>20.000</td>\n",
       "      <td>41.810</td>\n",
       "    </tr>\n",
       "    <tr>\n",
       "      <th>3</th>\n",
       "      <td>162.000</td>\n",
       "      <td>148.000</td>\n",
       "      <td>190.000</td>\n",
       "      <td>179.000</td>\n",
       "      <td>19.000</td>\n",
       "      <td>838.000</td>\n",
       "      <td>741.000</td>\n",
       "      <td>3.000</td>\n",
       "      <td>21.500</td>\n",
       "      <td>42.080</td>\n",
       "    </tr>\n",
       "    <tr>\n",
       "      <th>4</th>\n",
       "      <td>154.000</td>\n",
       "      <td>112.000</td>\n",
       "      <td>144.000</td>\n",
       "      <td>220.000</td>\n",
       "      <td>10.000</td>\n",
       "      <td>923.000</td>\n",
       "      <td>658.000</td>\n",
       "      <td>20.000</td>\n",
       "      <td>64.000</td>\n",
       "      <td>26.820</td>\n",
       "    </tr>\n",
       "  </tbody>\n",
       "</table>\n",
       "</div>"
      ],
      "text/plain": [
       "   Cement    Slag  Fly ash   Water     SP  Coarse Aggr.  Fine Aggr.  \\\n",
       "0 273.000  82.000  105.000 210.000  9.000       904.000     680.000   \n",
       "1 163.000 149.000  191.000 180.000 12.000       843.000     746.000   \n",
       "2 162.000 148.000  191.000 179.000 16.000       840.000     743.000   \n",
       "3 162.000 148.000  190.000 179.000 19.000       838.000     741.000   \n",
       "4 154.000 112.000  144.000 220.000 10.000       923.000     658.000   \n",
       "\n",
       "   SLUMP(cm)  FLOW(cm)  Compressive Strength (28-day)(Mpa)  \n",
       "0     23.000    62.000                              34.990  \n",
       "1      0.000    20.000                              41.140  \n",
       "2      1.000    20.000                              41.810  \n",
       "3      3.000    21.500                              42.080  \n",
       "4     20.000    64.000                              26.820  "
      ]
     },
     "execution_count": 3,
     "metadata": {},
     "output_type": "execute_result"
    }
   ],
   "source": [
    "df.head()"
   ]
  },
  {
   "cell_type": "code",
   "execution_count": 4,
   "metadata": {
    "scrolled": false
   },
   "outputs": [
    {
     "name": "stdout",
     "output_type": "stream",
     "text": [
      "<class 'pandas.core.frame.DataFrame'>\n",
      "RangeIndex: 103 entries, 0 to 102\n",
      "Data columns (total 10 columns):\n",
      " #   Column                              Non-Null Count  Dtype  \n",
      "---  ------                              --------------  -----  \n",
      " 0   Cement                              103 non-null    float64\n",
      " 1   Slag                                103 non-null    float64\n",
      " 2   Fly ash                             103 non-null    float64\n",
      " 3   Water                               103 non-null    float64\n",
      " 4   SP                                  103 non-null    float64\n",
      " 5   Coarse Aggr.                        103 non-null    float64\n",
      " 6   Fine Aggr.                          103 non-null    float64\n",
      " 7   SLUMP(cm)                           103 non-null    float64\n",
      " 8   FLOW(cm)                            103 non-null    float64\n",
      " 9   Compressive Strength (28-day)(Mpa)  103 non-null    float64\n",
      "dtypes: float64(10)\n",
      "memory usage: 8.2 KB\n"
     ]
    }
   ],
   "source": [
    "df.info()"
   ]
  },
  {
   "cell_type": "code",
   "execution_count": 5,
   "metadata": {},
   "outputs": [
    {
     "data": {
      "text/html": [
       "<div>\n",
       "<style scoped>\n",
       "    .dataframe tbody tr th:only-of-type {\n",
       "        vertical-align: middle;\n",
       "    }\n",
       "\n",
       "    .dataframe tbody tr th {\n",
       "        vertical-align: top;\n",
       "    }\n",
       "\n",
       "    .dataframe thead th {\n",
       "        text-align: right;\n",
       "    }\n",
       "</style>\n",
       "<table border=\"1\" class=\"dataframe\">\n",
       "  <thead>\n",
       "    <tr style=\"text-align: right;\">\n",
       "      <th></th>\n",
       "      <th>Cement</th>\n",
       "      <th>Slag</th>\n",
       "      <th>Fly ash</th>\n",
       "      <th>Water</th>\n",
       "      <th>SP</th>\n",
       "      <th>Coarse Aggr.</th>\n",
       "      <th>Fine Aggr.</th>\n",
       "      <th>SLUMP(cm)</th>\n",
       "      <th>FLOW(cm)</th>\n",
       "      <th>Compressive Strength (28-day)(Mpa)</th>\n",
       "    </tr>\n",
       "  </thead>\n",
       "  <tbody>\n",
       "    <tr>\n",
       "      <th>count</th>\n",
       "      <td>103.000</td>\n",
       "      <td>103.000</td>\n",
       "      <td>103.000</td>\n",
       "      <td>103.000</td>\n",
       "      <td>103.000</td>\n",
       "      <td>103.000</td>\n",
       "      <td>103.000</td>\n",
       "      <td>103.000</td>\n",
       "      <td>103.000</td>\n",
       "      <td>103.000</td>\n",
       "    </tr>\n",
       "    <tr>\n",
       "      <th>mean</th>\n",
       "      <td>229.894</td>\n",
       "      <td>77.974</td>\n",
       "      <td>149.015</td>\n",
       "      <td>197.168</td>\n",
       "      <td>8.540</td>\n",
       "      <td>883.979</td>\n",
       "      <td>739.605</td>\n",
       "      <td>18.049</td>\n",
       "      <td>49.611</td>\n",
       "      <td>36.039</td>\n",
       "    </tr>\n",
       "    <tr>\n",
       "      <th>std</th>\n",
       "      <td>78.877</td>\n",
       "      <td>60.461</td>\n",
       "      <td>85.418</td>\n",
       "      <td>20.208</td>\n",
       "      <td>2.808</td>\n",
       "      <td>88.391</td>\n",
       "      <td>63.342</td>\n",
       "      <td>8.751</td>\n",
       "      <td>17.569</td>\n",
       "      <td>7.837</td>\n",
       "    </tr>\n",
       "    <tr>\n",
       "      <th>min</th>\n",
       "      <td>137.000</td>\n",
       "      <td>0.000</td>\n",
       "      <td>0.000</td>\n",
       "      <td>160.000</td>\n",
       "      <td>4.400</td>\n",
       "      <td>708.000</td>\n",
       "      <td>640.600</td>\n",
       "      <td>0.000</td>\n",
       "      <td>20.000</td>\n",
       "      <td>17.190</td>\n",
       "    </tr>\n",
       "    <tr>\n",
       "      <th>25%</th>\n",
       "      <td>152.000</td>\n",
       "      <td>0.050</td>\n",
       "      <td>115.500</td>\n",
       "      <td>180.000</td>\n",
       "      <td>6.000</td>\n",
       "      <td>819.500</td>\n",
       "      <td>684.500</td>\n",
       "      <td>14.500</td>\n",
       "      <td>38.500</td>\n",
       "      <td>30.900</td>\n",
       "    </tr>\n",
       "    <tr>\n",
       "      <th>50%</th>\n",
       "      <td>248.000</td>\n",
       "      <td>100.000</td>\n",
       "      <td>164.000</td>\n",
       "      <td>196.000</td>\n",
       "      <td>8.000</td>\n",
       "      <td>879.000</td>\n",
       "      <td>742.700</td>\n",
       "      <td>21.500</td>\n",
       "      <td>54.000</td>\n",
       "      <td>35.520</td>\n",
       "    </tr>\n",
       "    <tr>\n",
       "      <th>75%</th>\n",
       "      <td>303.900</td>\n",
       "      <td>125.000</td>\n",
       "      <td>235.950</td>\n",
       "      <td>209.500</td>\n",
       "      <td>10.000</td>\n",
       "      <td>952.800</td>\n",
       "      <td>788.000</td>\n",
       "      <td>24.000</td>\n",
       "      <td>63.750</td>\n",
       "      <td>41.205</td>\n",
       "    </tr>\n",
       "    <tr>\n",
       "      <th>max</th>\n",
       "      <td>374.000</td>\n",
       "      <td>193.000</td>\n",
       "      <td>260.000</td>\n",
       "      <td>240.000</td>\n",
       "      <td>19.000</td>\n",
       "      <td>1049.900</td>\n",
       "      <td>902.000</td>\n",
       "      <td>29.000</td>\n",
       "      <td>78.000</td>\n",
       "      <td>58.530</td>\n",
       "    </tr>\n",
       "  </tbody>\n",
       "</table>\n",
       "</div>"
      ],
      "text/plain": [
       "       Cement    Slag  Fly ash   Water      SP  Coarse Aggr.  Fine Aggr.  \\\n",
       "count 103.000 103.000  103.000 103.000 103.000       103.000     103.000   \n",
       "mean  229.894  77.974  149.015 197.168   8.540       883.979     739.605   \n",
       "std    78.877  60.461   85.418  20.208   2.808        88.391      63.342   \n",
       "min   137.000   0.000    0.000 160.000   4.400       708.000     640.600   \n",
       "25%   152.000   0.050  115.500 180.000   6.000       819.500     684.500   \n",
       "50%   248.000 100.000  164.000 196.000   8.000       879.000     742.700   \n",
       "75%   303.900 125.000  235.950 209.500  10.000       952.800     788.000   \n",
       "max   374.000 193.000  260.000 240.000  19.000      1049.900     902.000   \n",
       "\n",
       "       SLUMP(cm)  FLOW(cm)  Compressive Strength (28-day)(Mpa)  \n",
       "count    103.000   103.000                             103.000  \n",
       "mean      18.049    49.611                              36.039  \n",
       "std        8.751    17.569                               7.837  \n",
       "min        0.000    20.000                              17.190  \n",
       "25%       14.500    38.500                              30.900  \n",
       "50%       21.500    54.000                              35.520  \n",
       "75%       24.000    63.750                              41.205  \n",
       "max       29.000    78.000                              58.530  "
      ]
     },
     "execution_count": 5,
     "metadata": {},
     "output_type": "execute_result"
    }
   ],
   "source": [
    "df.describe()"
   ]
  },
  {
   "cell_type": "markdown",
   "metadata": {},
   "source": [
    "* Dataframe consists of 103 observations and 9 features. There is no null value in the data and all features are float."
   ]
  },
  {
   "cell_type": "markdown",
   "metadata": {
    "id": "1xsgyEZ5LkKb"
   },
   "source": [
    "# EDA and Graphical analysis"
   ]
  },
  {
   "cell_type": "code",
   "execution_count": 6,
   "metadata": {
    "id": "OOynhUc7Lv1F"
   },
   "outputs": [],
   "source": [
    "df[\"w/c\"] = df['Water']/df['Cement']\n",
    "df[\"sp/c\"] = df['SP']/df['Cement']"
   ]
  },
  {
   "cell_type": "code",
   "execution_count": 7,
   "metadata": {},
   "outputs": [],
   "source": [
    "df.columns = df.columns.str.lower().str.replace(' ','_')"
   ]
  },
  {
   "cell_type": "code",
   "execution_count": 8,
   "metadata": {},
   "outputs": [],
   "source": [
    "df = df.rename(columns = {'compressive_strength_(28-day)(mpa)': 'CS'})"
   ]
  },
  {
   "cell_type": "code",
   "execution_count": 9,
   "metadata": {
    "scrolled": true
   },
   "outputs": [
    {
     "data": {
      "image/png": "[encoded data removed]",
      "text/plain": [
       "<Figure size 1440x432 with 12 Axes>"
      ]
     },
     "metadata": {
      "needs_background": "light"
     },
     "output_type": "display_data"
    }
   ],
   "source": [
    "red_circle = dict(markerfacecolor='red', marker='o', markeredgecolor='white')\n",
    "\n",
    "fig, axs = plt.subplots(1, len(df.columns), figsize=(20,6))\n",
    "\n",
    "for i, ax in enumerate(axs.flat):\n",
    "    ax.boxplot(df.iloc[:,i], flierprops=red_circle)\n",
    "    ax.set_title(df.columns[i], fontsize=12, fontweight='bold')\n",
    "    ax.tick_params(axis='y', labelsize=12)\n",
    "    \n",
    "plt.tight_layout()"
   ]
  },
  {
   "cell_type": "markdown",
   "metadata": {},
   "source": [
    "* In this data main features are 'cement', 'slag', 'fly_ash', 'water', 'sp', 'coarse_aggr.','fine_aggr.'.\n",
    "* Also 'w/c', 'sp/c' columns added, in order to test the effects of this columns on the target variable. But in the main model this features will not included. \n",
    "* Outlier analysis: \n",
    "    * In main features, it is shown that only two outlier in sp column.\n",
    "    * There is a outlier in target variable CS.\n",
    "    * There are many outliers in sp/c column but since this column was created from sp and cement column, these are not admitted as outliers for the all data.\n"
   ]
  },
  {
   "cell_type": "code",
   "execution_count": 10,
   "metadata": {
    "scrolled": true
   },
   "outputs": [
    {
     "data": {
      "text/html": [
       "<div>\n",
       "<style scoped>\n",
       "    .dataframe tbody tr th:only-of-type {\n",
       "        vertical-align: middle;\n",
       "    }\n",
       "\n",
       "    .dataframe tbody tr th {\n",
       "        vertical-align: top;\n",
       "    }\n",
       "\n",
       "    .dataframe thead th {\n",
       "        text-align: right;\n",
       "    }\n",
       "</style>\n",
       "<table border=\"1\" class=\"dataframe\">\n",
       "  <thead>\n",
       "    <tr style=\"text-align: right;\">\n",
       "      <th></th>\n",
       "      <th>cement</th>\n",
       "      <th>slag</th>\n",
       "      <th>fly_ash</th>\n",
       "      <th>water</th>\n",
       "      <th>sp</th>\n",
       "      <th>coarse_aggr.</th>\n",
       "      <th>fine_aggr.</th>\n",
       "      <th>slump(cm)</th>\n",
       "      <th>flow(cm)</th>\n",
       "      <th>CS</th>\n",
       "      <th>w/c</th>\n",
       "      <th>sp/c</th>\n",
       "    </tr>\n",
       "  </thead>\n",
       "  <tbody>\n",
       "    <tr>\n",
       "      <th>32</th>\n",
       "      <td>366.000</td>\n",
       "      <td>0.000</td>\n",
       "      <td>187.000</td>\n",
       "      <td>191.000</td>\n",
       "      <td>7.000</td>\n",
       "      <td>824.000</td>\n",
       "      <td>757.000</td>\n",
       "      <td>24.750</td>\n",
       "      <td>62.700</td>\n",
       "      <td>52.650</td>\n",
       "      <td>0.522</td>\n",
       "      <td>0.019</td>\n",
       "    </tr>\n",
       "    <tr>\n",
       "      <th>48</th>\n",
       "      <td>332.000</td>\n",
       "      <td>0.000</td>\n",
       "      <td>170.000</td>\n",
       "      <td>160.000</td>\n",
       "      <td>6.000</td>\n",
       "      <td>900.000</td>\n",
       "      <td>806.000</td>\n",
       "      <td>0.000</td>\n",
       "      <td>20.000</td>\n",
       "      <td>58.530</td>\n",
       "      <td>0.482</td>\n",
       "      <td>0.018</td>\n",
       "    </tr>\n",
       "    <tr>\n",
       "      <th>49</th>\n",
       "      <td>326.000</td>\n",
       "      <td>0.000</td>\n",
       "      <td>167.000</td>\n",
       "      <td>174.000</td>\n",
       "      <td>6.000</td>\n",
       "      <td>884.000</td>\n",
       "      <td>792.000</td>\n",
       "      <td>21.500</td>\n",
       "      <td>42.000</td>\n",
       "      <td>52.650</td>\n",
       "      <td>0.534</td>\n",
       "      <td>0.018</td>\n",
       "    </tr>\n",
       "    <tr>\n",
       "      <th>99</th>\n",
       "      <td>248.000</td>\n",
       "      <td>101.000</td>\n",
       "      <td>239.900</td>\n",
       "      <td>169.100</td>\n",
       "      <td>7.700</td>\n",
       "      <td>949.900</td>\n",
       "      <td>644.100</td>\n",
       "      <td>2.000</td>\n",
       "      <td>20.000</td>\n",
       "      <td>50.230</td>\n",
       "      <td>0.682</td>\n",
       "      <td>0.031</td>\n",
       "    </tr>\n",
       "    <tr>\n",
       "      <th>100</th>\n",
       "      <td>258.800</td>\n",
       "      <td>88.000</td>\n",
       "      <td>239.600</td>\n",
       "      <td>175.300</td>\n",
       "      <td>7.600</td>\n",
       "      <td>938.900</td>\n",
       "      <td>646.000</td>\n",
       "      <td>0.000</td>\n",
       "      <td>20.000</td>\n",
       "      <td>50.500</td>\n",
       "      <td>0.677</td>\n",
       "      <td>0.029</td>\n",
       "    </tr>\n",
       "  </tbody>\n",
       "</table>\n",
       "</div>"
      ],
      "text/plain": [
       "     cement    slag  fly_ash   water    sp  coarse_aggr.  fine_aggr.  \\\n",
       "32  366.000   0.000  187.000 191.000 7.000       824.000     757.000   \n",
       "48  332.000   0.000  170.000 160.000 6.000       900.000     806.000   \n",
       "49  326.000   0.000  167.000 174.000 6.000       884.000     792.000   \n",
       "99  248.000 101.000  239.900 169.100 7.700       949.900     644.100   \n",
       "100 258.800  88.000  239.600 175.300 7.600       938.900     646.000   \n",
       "\n",
       "     slump(cm)  flow(cm)     CS   w/c  sp/c  \n",
       "32      24.750    62.700 52.650 0.522 0.019  \n",
       "48       0.000    20.000 58.530 0.482 0.018  \n",
       "49      21.500    42.000 52.650 0.534 0.018  \n",
       "99       2.000    20.000 50.230 0.682 0.031  \n",
       "100      0.000    20.000 50.500 0.677 0.029  "
      ]
     },
     "execution_count": 10,
     "metadata": {},
     "output_type": "execute_result"
    }
   ],
   "source": [
    "df[df.CS>50]  # The outlier in CS column is not seem anomaly. "
   ]
  },
  {
   "cell_type": "code",
   "execution_count": 11,
   "metadata": {
    "scrolled": true
   },
   "outputs": [
    {
     "data": {
      "text/html": [
       "<div>\n",
       "<style scoped>\n",
       "    .dataframe tbody tr th:only-of-type {\n",
       "        vertical-align: middle;\n",
       "    }\n",
       "\n",
       "    .dataframe tbody tr th {\n",
       "        vertical-align: top;\n",
       "    }\n",
       "\n",
       "    .dataframe thead th {\n",
       "        text-align: right;\n",
       "    }\n",
       "</style>\n",
       "<table border=\"1\" class=\"dataframe\">\n",
       "  <thead>\n",
       "    <tr style=\"text-align: right;\">\n",
       "      <th></th>\n",
       "      <th>cement</th>\n",
       "      <th>slag</th>\n",
       "      <th>fly_ash</th>\n",
       "      <th>water</th>\n",
       "      <th>sp</th>\n",
       "      <th>coarse_aggr.</th>\n",
       "      <th>fine_aggr.</th>\n",
       "      <th>slump(cm)</th>\n",
       "      <th>flow(cm)</th>\n",
       "      <th>CS</th>\n",
       "      <th>w/c</th>\n",
       "      <th>sp/c</th>\n",
       "    </tr>\n",
       "  </thead>\n",
       "  <tbody>\n",
       "    <tr>\n",
       "      <th>2</th>\n",
       "      <td>162.000</td>\n",
       "      <td>148.000</td>\n",
       "      <td>191.000</td>\n",
       "      <td>179.000</td>\n",
       "      <td>16.000</td>\n",
       "      <td>840.000</td>\n",
       "      <td>743.000</td>\n",
       "      <td>1.000</td>\n",
       "      <td>20.000</td>\n",
       "      <td>41.810</td>\n",
       "      <td>1.105</td>\n",
       "      <td>0.099</td>\n",
       "    </tr>\n",
       "    <tr>\n",
       "      <th>3</th>\n",
       "      <td>162.000</td>\n",
       "      <td>148.000</td>\n",
       "      <td>190.000</td>\n",
       "      <td>179.000</td>\n",
       "      <td>19.000</td>\n",
       "      <td>838.000</td>\n",
       "      <td>741.000</td>\n",
       "      <td>3.000</td>\n",
       "      <td>21.500</td>\n",
       "      <td>42.080</td>\n",
       "      <td>1.105</td>\n",
       "      <td>0.117</td>\n",
       "    </tr>\n",
       "    <tr>\n",
       "      <th>6</th>\n",
       "      <td>152.000</td>\n",
       "      <td>139.000</td>\n",
       "      <td>178.000</td>\n",
       "      <td>168.000</td>\n",
       "      <td>18.000</td>\n",
       "      <td>944.000</td>\n",
       "      <td>695.000</td>\n",
       "      <td>0.000</td>\n",
       "      <td>20.000</td>\n",
       "      <td>38.860</td>\n",
       "      <td>1.105</td>\n",
       "      <td>0.118</td>\n",
       "    </tr>\n",
       "    <tr>\n",
       "      <th>15</th>\n",
       "      <td>159.000</td>\n",
       "      <td>116.000</td>\n",
       "      <td>149.000</td>\n",
       "      <td>175.000</td>\n",
       "      <td>15.000</td>\n",
       "      <td>953.000</td>\n",
       "      <td>720.000</td>\n",
       "      <td>23.500</td>\n",
       "      <td>54.500</td>\n",
       "      <td>34.050</td>\n",
       "      <td>1.101</td>\n",
       "      <td>0.094</td>\n",
       "    </tr>\n",
       "  </tbody>\n",
       "</table>\n",
       "</div>"
      ],
      "text/plain": [
       "    cement    slag  fly_ash   water     sp  coarse_aggr.  fine_aggr.  \\\n",
       "2  162.000 148.000  191.000 179.000 16.000       840.000     743.000   \n",
       "3  162.000 148.000  190.000 179.000 19.000       838.000     741.000   \n",
       "6  152.000 139.000  178.000 168.000 18.000       944.000     695.000   \n",
       "15 159.000 116.000  149.000 175.000 15.000       953.000     720.000   \n",
       "\n",
       "    slump(cm)  flow(cm)     CS   w/c  sp/c  \n",
       "2       1.000    20.000 41.810 1.105 0.099  \n",
       "3       3.000    21.500 42.080 1.105 0.117  \n",
       "6       0.000    20.000 38.860 1.105 0.118  \n",
       "15     23.500    54.500 34.050 1.101 0.094  "
      ]
     },
     "execution_count": 11,
     "metadata": {},
     "output_type": "execute_result"
    }
   ],
   "source": [
    "df[df.sp>14]   # The outliers in sp column are not seem anomaly. "
   ]
  },
  {
   "cell_type": "markdown",
   "metadata": {},
   "source": [
    "**Target Variable: CS density plot**"
   ]
  },
  {
   "cell_type": "code",
   "execution_count": 12,
   "metadata": {},
   "outputs": [
    {
     "data": {
      "image/png": "[encoded data removed]",
      "text/plain": [
       "<Figure size 576x360 with 1 Axes>"
      ]
     },
     "metadata": {
      "needs_background": "light"
     },
     "output_type": "display_data"
    }
   ],
   "source": [
    "plt.figure(figsize = (8,5))\n",
    "sns.distplot(df['CS'], kde = True, bins = 30)\n",
    "plt.show()"
   ]
  },
  {
   "cell_type": "code",
   "execution_count": 13,
   "metadata": {
    "scrolled": true
   },
   "outputs": [
    {
     "data": {
      "text/html": [
       "<div>\n",
       "<style scoped>\n",
       "    .dataframe tbody tr th:only-of-type {\n",
       "        vertical-align: middle;\n",
       "    }\n",
       "\n",
       "    .dataframe tbody tr th {\n",
       "        vertical-align: top;\n",
       "    }\n",
       "\n",
       "    .dataframe thead th {\n",
       "        text-align: right;\n",
       "    }\n",
       "</style>\n",
       "<table border=\"1\" class=\"dataframe\">\n",
       "  <thead>\n",
       "    <tr style=\"text-align: right;\">\n",
       "      <th></th>\n",
       "      <th>cement</th>\n",
       "      <th>slag</th>\n",
       "      <th>fly_ash</th>\n",
       "      <th>water</th>\n",
       "      <th>sp</th>\n",
       "      <th>coarse_aggr.</th>\n",
       "      <th>fine_aggr.</th>\n",
       "      <th>slump(cm)</th>\n",
       "      <th>flow(cm)</th>\n",
       "      <th>CS</th>\n",
       "      <th>w/c</th>\n",
       "      <th>sp/c</th>\n",
       "    </tr>\n",
       "  </thead>\n",
       "  <tbody>\n",
       "    <tr>\n",
       "      <th>cement</th>\n",
       "      <td>1.000</td>\n",
       "      <td>-0.244</td>\n",
       "      <td>-0.487</td>\n",
       "      <td>0.221</td>\n",
       "      <td>-0.106</td>\n",
       "      <td>-0.310</td>\n",
       "      <td>0.057</td>\n",
       "      <td>0.146</td>\n",
       "      <td>0.186</td>\n",
       "      <td>0.446</td>\n",
       "      <td>-0.926</td>\n",
       "      <td>-0.681</td>\n",
       "    </tr>\n",
       "    <tr>\n",
       "      <th>slag</th>\n",
       "      <td>-0.244</td>\n",
       "      <td>1.000</td>\n",
       "      <td>-0.323</td>\n",
       "      <td>-0.027</td>\n",
       "      <td>0.307</td>\n",
       "      <td>-0.224</td>\n",
       "      <td>-0.184</td>\n",
       "      <td>-0.284</td>\n",
       "      <td>-0.327</td>\n",
       "      <td>-0.332</td>\n",
       "      <td>0.209</td>\n",
       "      <td>0.359</td>\n",
       "    </tr>\n",
       "    <tr>\n",
       "      <th>fly_ash</th>\n",
       "      <td>-0.487</td>\n",
       "      <td>-0.323</td>\n",
       "      <td>1.000</td>\n",
       "      <td>-0.241</td>\n",
       "      <td>-0.144</td>\n",
       "      <td>0.173</td>\n",
       "      <td>-0.283</td>\n",
       "      <td>-0.119</td>\n",
       "      <td>-0.055</td>\n",
       "      <td>0.444</td>\n",
       "      <td>0.396</td>\n",
       "      <td>0.187</td>\n",
       "    </tr>\n",
       "    <tr>\n",
       "      <th>water</th>\n",
       "      <td>0.221</td>\n",
       "      <td>-0.027</td>\n",
       "      <td>-0.241</td>\n",
       "      <td>1.000</td>\n",
       "      <td>-0.155</td>\n",
       "      <td>-0.602</td>\n",
       "      <td>0.115</td>\n",
       "      <td>0.467</td>\n",
       "      <td>0.632</td>\n",
       "      <td>-0.254</td>\n",
       "      <td>0.115</td>\n",
       "      <td>-0.254</td>\n",
       "    </tr>\n",
       "    <tr>\n",
       "      <th>sp</th>\n",
       "      <td>-0.106</td>\n",
       "      <td>0.307</td>\n",
       "      <td>-0.144</td>\n",
       "      <td>-0.155</td>\n",
       "      <td>1.000</td>\n",
       "      <td>-0.104</td>\n",
       "      <td>0.058</td>\n",
       "      <td>-0.213</td>\n",
       "      <td>-0.176</td>\n",
       "      <td>-0.038</td>\n",
       "      <td>0.004</td>\n",
       "      <td>0.773</td>\n",
       "    </tr>\n",
       "    <tr>\n",
       "      <th>coarse_aggr.</th>\n",
       "      <td>-0.310</td>\n",
       "      <td>-0.224</td>\n",
       "      <td>0.173</td>\n",
       "      <td>-0.602</td>\n",
       "      <td>-0.104</td>\n",
       "      <td>1.000</td>\n",
       "      <td>-0.489</td>\n",
       "      <td>-0.188</td>\n",
       "      <td>-0.326</td>\n",
       "      <td>-0.161</td>\n",
       "      <td>0.106</td>\n",
       "      <td>0.114</td>\n",
       "    </tr>\n",
       "    <tr>\n",
       "      <th>fine_aggr.</th>\n",
       "      <td>0.057</td>\n",
       "      <td>-0.184</td>\n",
       "      <td>-0.283</td>\n",
       "      <td>0.115</td>\n",
       "      <td>0.058</td>\n",
       "      <td>-0.489</td>\n",
       "      <td>1.000</td>\n",
       "      <td>0.202</td>\n",
       "      <td>0.190</td>\n",
       "      <td>-0.155</td>\n",
       "      <td>0.023</td>\n",
       "      <td>0.017</td>\n",
       "    </tr>\n",
       "    <tr>\n",
       "      <th>slump(cm)</th>\n",
       "      <td>0.146</td>\n",
       "      <td>-0.284</td>\n",
       "      <td>-0.119</td>\n",
       "      <td>0.467</td>\n",
       "      <td>-0.213</td>\n",
       "      <td>-0.188</td>\n",
       "      <td>0.202</td>\n",
       "      <td>1.000</td>\n",
       "      <td>0.906</td>\n",
       "      <td>-0.223</td>\n",
       "      <td>0.025</td>\n",
       "      <td>-0.277</td>\n",
       "    </tr>\n",
       "    <tr>\n",
       "      <th>flow(cm)</th>\n",
       "      <td>0.186</td>\n",
       "      <td>-0.327</td>\n",
       "      <td>-0.055</td>\n",
       "      <td>0.632</td>\n",
       "      <td>-0.176</td>\n",
       "      <td>-0.326</td>\n",
       "      <td>0.190</td>\n",
       "      <td>0.906</td>\n",
       "      <td>1.000</td>\n",
       "      <td>-0.124</td>\n",
       "      <td>0.037</td>\n",
       "      <td>-0.274</td>\n",
       "    </tr>\n",
       "    <tr>\n",
       "      <th>CS</th>\n",
       "      <td>0.446</td>\n",
       "      <td>-0.332</td>\n",
       "      <td>0.444</td>\n",
       "      <td>-0.254</td>\n",
       "      <td>-0.038</td>\n",
       "      <td>-0.161</td>\n",
       "      <td>-0.155</td>\n",
       "      <td>-0.223</td>\n",
       "      <td>-0.124</td>\n",
       "      <td>1.000</td>\n",
       "      <td>-0.536</td>\n",
       "      <td>-0.284</td>\n",
       "    </tr>\n",
       "    <tr>\n",
       "      <th>w/c</th>\n",
       "      <td>-0.926</td>\n",
       "      <td>0.209</td>\n",
       "      <td>0.396</td>\n",
       "      <td>0.115</td>\n",
       "      <td>0.004</td>\n",
       "      <td>0.106</td>\n",
       "      <td>0.023</td>\n",
       "      <td>0.025</td>\n",
       "      <td>0.037</td>\n",
       "      <td>-0.536</td>\n",
       "      <td>1.000</td>\n",
       "      <td>0.573</td>\n",
       "    </tr>\n",
       "    <tr>\n",
       "      <th>sp/c</th>\n",
       "      <td>-0.681</td>\n",
       "      <td>0.359</td>\n",
       "      <td>0.187</td>\n",
       "      <td>-0.254</td>\n",
       "      <td>0.773</td>\n",
       "      <td>0.114</td>\n",
       "      <td>0.017</td>\n",
       "      <td>-0.277</td>\n",
       "      <td>-0.274</td>\n",
       "      <td>-0.284</td>\n",
       "      <td>0.573</td>\n",
       "      <td>1.000</td>\n",
       "    </tr>\n",
       "  </tbody>\n",
       "</table>\n",
       "</div>"
      ],
      "text/plain": [
       "              cement   slag  fly_ash  water     sp  coarse_aggr.  fine_aggr.  \\\n",
       "cement         1.000 -0.244   -0.487  0.221 -0.106        -0.310       0.057   \n",
       "slag          -0.244  1.000   -0.323 -0.027  0.307        -0.224      -0.184   \n",
       "fly_ash       -0.487 -0.323    1.000 -0.241 -0.144         0.173      -0.283   \n",
       "water          0.221 -0.027   -0.241  1.000 -0.155        -0.602       0.115   \n",
       "sp            -0.106  0.307   -0.144 -0.155  1.000        -0.104       0.058   \n",
       "coarse_aggr.  -0.310 -0.224    0.173 -0.602 -0.104         1.000      -0.489   \n",
       "fine_aggr.     0.057 -0.184   -0.283  0.115  0.058        -0.489       1.000   \n",
       "slump(cm)      0.146 -0.284   -0.119  0.467 -0.213        -0.188       0.202   \n",
       "flow(cm)       0.186 -0.327   -0.055  0.632 -0.176        -0.326       0.190   \n",
       "CS             0.446 -0.332    0.444 -0.254 -0.038        -0.161      -0.155   \n",
       "w/c           -0.926  0.209    0.396  0.115  0.004         0.106       0.023   \n",
       "sp/c          -0.681  0.359    0.187 -0.254  0.773         0.114       0.017   \n",
       "\n",
       "              slump(cm)  flow(cm)     CS    w/c   sp/c  \n",
       "cement            0.146     0.186  0.446 -0.926 -0.681  \n",
       "slag             -0.284    -0.327 -0.332  0.209  0.359  \n",
       "fly_ash          -0.119    -0.055  0.444  0.396  0.187  \n",
       "water             0.467     0.632 -0.254  0.115 -0.254  \n",
       "sp               -0.213    -0.176 -0.038  0.004  0.773  \n",
       "coarse_aggr.     -0.188    -0.326 -0.161  0.106  0.114  \n",
       "fine_aggr.        0.202     0.190 -0.155  0.023  0.017  \n",
       "slump(cm)         1.000     0.906 -0.223  0.025 -0.277  \n",
       "flow(cm)          0.906     1.000 -0.124  0.037 -0.274  \n",
       "CS               -0.223    -0.124  1.000 -0.536 -0.284  \n",
       "w/c               0.025     0.037 -0.536  1.000  0.573  \n",
       "sp/c             -0.277    -0.274 -0.284  0.573  1.000  "
      ]
     },
     "execution_count": 13,
     "metadata": {},
     "output_type": "execute_result"
    }
   ],
   "source": [
    "df.corr()"
   ]
  },
  {
   "cell_type": "code",
   "execution_count": 14,
   "metadata": {},
   "outputs": [
    {
     "data": {
      "image/png": "[encoded data removed]",
      "text/plain": [
       "<Figure size 720x576 with 2 Axes>"
      ]
     },
     "metadata": {
      "needs_background": "light"
     },
     "output_type": "display_data"
    }
   ],
   "source": [
    "plt.figure(figsize=(10,8))\n",
    "sns.heatmap(df.corr(), vmin = -1, annot=True, cmap=\"viridis\")\n",
    "plt.show()"
   ]
  },
  {
   "cell_type": "code",
   "execution_count": 15,
   "metadata": {
    "scrolled": true
   },
   "outputs": [
    {
     "data": {
      "image/png": "[encoded data removed]",
      "text/plain": [
       "<Figure size 144x576 with 2 Axes>"
      ]
     },
     "metadata": {
      "needs_background": "light"
     },
     "output_type": "display_data"
    }
   ],
   "source": [
    "plt.figure(figsize=(2,8))\n",
    "sns.heatmap(df.corr()[['CS']].sort_values(by='CS', ascending=False), vmin = -1, annot=True, cmap=\"viridis\")\n",
    "plt.show()"
   ]
  },
  {
   "cell_type": "markdown",
   "metadata": {},
   "source": [
    "* The two most influential features on the target variable are cement and fly_ash. These features have a positive medium correlation with target variable. \n",
    "* However, water, slag, coarse_aggr and fine_aggr have a low negative correlation with target variable. \n",
    "* sp feature has almost no effect on target variable."
   ]
  },
  {
   "cell_type": "code",
   "execution_count": 16,
   "metadata": {},
   "outputs": [],
   "source": [
    "df1 = df.loc[:,['cement', 'slag', 'fly_ash', 'water', 'sp', 'coarse_aggr.','fine_aggr.','CS']]"
   ]
  },
  {
   "cell_type": "code",
   "execution_count": 17,
   "metadata": {},
   "outputs": [
    {
     "data": {
      "image/png": "[encoded data removed]",
      "text/plain": [
       "<Figure size 1440x1440 with 72 Axes>"
      ]
     },
     "metadata": {
      "needs_background": "light"
     },
     "output_type": "display_data"
    }
   ],
   "source": [
    "sns.pairplot(df1)\n",
    "plt.show()"
   ]
  },
  {
   "cell_type": "markdown",
   "metadata": {
    "id": "6mGpnc0Op9ib"
   },
   "source": [
    "# Data Preprocessing "
   ]
  },
  {
   "cell_type": "code",
   "execution_count": 18,
   "metadata": {},
   "outputs": [],
   "source": [
    "from sklearn.model_selection import train_test_split\n",
    "from sklearn.linear_model import LinearRegression\n",
    "from sklearn.preprocessing import StandardScaler, MinMaxScaler, RobustScaler\n",
    "from sklearn.metrics import mean_absolute_error, mean_squared_error, r2_score\n",
    "from sklearn.model_selection import cross_validate\n",
    "from sklearn.linear_model import Ridge\n",
    "from sklearn.linear_model import RidgeCV\n",
    "from sklearn.linear_model import Lasso\n",
    "from sklearn.linear_model import LassoCV\n",
    "from sklearn.preprocessing import PolynomialFeatures\n",
    "from sklearn.linear_model import ElasticNet\n",
    "from sklearn.model_selection import GridSearchCV"
   ]
  },
  {
   "cell_type": "markdown",
   "metadata": {
    "id": "lQry6QMmLkKd"
   },
   "source": [
    "### Features and target variable"
   ]
  },
  {
   "cell_type": "code",
   "execution_count": 19,
   "metadata": {
    "id": "Q8WR47fMLzH1"
   },
   "outputs": [],
   "source": [
    "X = df.loc[:,['cement', 'slag', 'fly_ash', 'water', 'sp', 'coarse_aggr.','fine_aggr.']]\n",
    "y = df['CS']"
   ]
  },
  {
   "cell_type": "markdown",
   "metadata": {
    "id": "2bgxIFqvLkKe"
   },
   "source": [
    "### Splitting data into training and testing"
   ]
  },
  {
   "cell_type": "code",
   "execution_count": 20,
   "metadata": {
    "id": "uUotDhZ_L0YN"
   },
   "outputs": [],
   "source": [
    "X_train, X_test, y_train, y_test = train_test_split(X,y,test_size = 0.3, random_state = 58)"
   ]
  },
  {
   "cell_type": "code",
   "execution_count": 21,
   "metadata": {},
   "outputs": [
    {
     "name": "stdout",
     "output_type": "stream",
     "text": [
      "Train features shape: (72, 7)\n",
      "Train target shape: (72,)\n",
      "Test features shape: (31, 7)\n",
      "Test target shape: (31,)\n"
     ]
    }
   ],
   "source": [
    "print('Train features shape:', X_train.shape)\n",
    "print('Train target shape:', y_train.shape)\n",
    "print('Test features shape:', X_test.shape)\n",
    "print('Test target shape:', y_test.shape)"
   ]
  },
  {
   "cell_type": "markdown",
   "metadata": {
    "id": "4YkV6BW2qAQf"
   },
   "source": [
    "## Scaling"
   ]
  },
  {
   "cell_type": "code",
   "execution_count": 22,
   "metadata": {
    "id": "9eLa4YNQL2J1"
   },
   "outputs": [
    {
     "data": {
      "text/plain": [
       "StandardScaler()"
      ]
     },
     "execution_count": 22,
     "metadata": {},
     "output_type": "execute_result"
    }
   ],
   "source": [
    "scaler = StandardScaler()\n",
    "scaler.fit(X_train)"
   ]
  },
  {
   "cell_type": "code",
   "execution_count": 23,
   "metadata": {},
   "outputs": [],
   "source": [
    "X_train_scaled = scaler.transform(X_train) "
   ]
  },
  {
   "cell_type": "code",
   "execution_count": 24,
   "metadata": {},
   "outputs": [],
   "source": [
    "X_test_scaled = scaler.transform(X_test)"
   ]
  },
  {
   "cell_type": "markdown",
   "metadata": {
    "id": "pe_hobuSLkKf"
   },
   "source": [
    "##  1. Model Building (Linear Regression)"
   ]
  },
  {
   "cell_type": "code",
   "execution_count": 25,
   "metadata": {
    "id": "MixfWgNNL35l"
   },
   "outputs": [],
   "source": [
    "lm = LinearRegression()"
   ]
  },
  {
   "cell_type": "code",
   "execution_count": 26,
   "metadata": {},
   "outputs": [
    {
     "data": {
      "text/plain": [
       "LinearRegression()"
      ]
     },
     "execution_count": 26,
     "metadata": {},
     "output_type": "execute_result"
    }
   ],
   "source": [
    "lm.fit(X_train_scaled,y_train)"
   ]
  },
  {
   "cell_type": "code",
   "execution_count": 27,
   "metadata": {},
   "outputs": [],
   "source": [
    "y_pred = lm.predict(X_test_scaled)\n",
    "y_train_pred = lm.predict(X_train_scaled)"
   ]
  },
  {
   "cell_type": "markdown",
   "metadata": {
    "id": "emzJ9dsTLkKg"
   },
   "source": [
    "### 1.1 Interpret the model"
   ]
  },
  {
   "cell_type": "code",
   "execution_count": 28,
   "metadata": {
    "id": "G81OxjyLMCJd"
   },
   "outputs": [],
   "source": [
    "def train_val(y_train, y_train_pred, y_test, y_pred, name):\n",
    "    \n",
    "    scores = {name+\"_train\": {\"R2\" : r2_score(y_train, y_train_pred),\n",
    "    \"mae\" : mean_absolute_error(y_train, y_train_pred),\n",
    "    \"mse\" : mean_squared_error(y_train, y_train_pred),                          \n",
    "    \"rmse\" : np.sqrt(mean_squared_error(y_train, y_train_pred))},\n",
    "    \n",
    "    name+\"_test\": {\"R2\" : r2_score(y_test, y_pred),\n",
    "    \"mae\" : mean_absolute_error(y_test, y_pred),\n",
    "    \"mse\" : mean_squared_error(y_test, y_pred),\n",
    "    \"rmse\" : np.sqrt(mean_squared_error(y_test, y_pred))}}\n",
    "    \n",
    "    return pd.DataFrame(scores)"
   ]
  },
  {
   "cell_type": "code",
   "execution_count": 29,
   "metadata": {},
   "outputs": [
    {
     "data": {
      "text/html": [
       "<div>\n",
       "<style scoped>\n",
       "    .dataframe tbody tr th:only-of-type {\n",
       "        vertical-align: middle;\n",
       "    }\n",
       "\n",
       "    .dataframe tbody tr th {\n",
       "        vertical-align: top;\n",
       "    }\n",
       "\n",
       "    .dataframe thead th {\n",
       "        text-align: right;\n",
       "    }\n",
       "</style>\n",
       "<table border=\"1\" class=\"dataframe\">\n",
       "  <thead>\n",
       "    <tr style=\"text-align: right;\">\n",
       "      <th></th>\n",
       "      <th>linear_train</th>\n",
       "      <th>linear_test</th>\n",
       "    </tr>\n",
       "  </thead>\n",
       "  <tbody>\n",
       "    <tr>\n",
       "      <th>R2</th>\n",
       "      <td>0.911</td>\n",
       "      <td>0.846</td>\n",
       "    </tr>\n",
       "    <tr>\n",
       "      <th>mae</th>\n",
       "      <td>1.782</td>\n",
       "      <td>2.120</td>\n",
       "    </tr>\n",
       "    <tr>\n",
       "      <th>mse</th>\n",
       "      <td>5.298</td>\n",
       "      <td>9.628</td>\n",
       "    </tr>\n",
       "    <tr>\n",
       "      <th>rmse</th>\n",
       "      <td>2.302</td>\n",
       "      <td>3.103</td>\n",
       "    </tr>\n",
       "  </tbody>\n",
       "</table>\n",
       "</div>"
      ],
      "text/plain": [
       "      linear_train  linear_test\n",
       "R2           0.911        0.846\n",
       "mae          1.782        2.120\n",
       "mse          5.298        9.628\n",
       "rmse         2.302        3.103"
      ]
     },
     "execution_count": 29,
     "metadata": {},
     "output_type": "execute_result"
    }
   ],
   "source": [
    "ls = train_val(y_train, y_train_pred, y_test, y_pred, \"linear\")\n",
    "ls"
   ]
  },
  {
   "cell_type": "markdown",
   "metadata": {},
   "source": [
    "**There is a gap between test and train R2 scores but in order to be sure these scores, cross validation will be applied to the dataset.**"
   ]
  },
  {
   "cell_type": "markdown",
   "metadata": {
    "id": "3fCcbzwNLkKg"
   },
   "source": [
    "### 1.2 Model Evaluation"
   ]
  },
  {
   "cell_type": "code",
   "execution_count": 30,
   "metadata": {
    "id": "YRTnaI1wMHdl"
   },
   "outputs": [],
   "source": [
    "model = LinearRegression()\n",
    "scores = cross_validate(model, X_train_scaled, y_train, \n",
    "                       scoring = ['r2', 'neg_mean_absolute_error', 'neg_mean_squared_error', 'neg_root_mean_squared_error'],\n",
    "                       cv = 5)"
   ]
  },
  {
   "cell_type": "code",
   "execution_count": 31,
   "metadata": {},
   "outputs": [
    {
     "data": {
      "text/plain": [
       "test_r2                             0.851\n",
       "test_neg_mean_absolute_error       -1.947\n",
       "test_neg_mean_squared_error        -6.448\n",
       "test_neg_root_mean_squared_error   -2.519\n",
       "dtype: float64"
      ]
     },
     "execution_count": 31,
     "metadata": {},
     "output_type": "execute_result"
    }
   ],
   "source": [
    "scores = pd.DataFrame(scores, index = range(1,6))\n",
    "scores.iloc[:, 2:].mean()"
   ]
  },
  {
   "cell_type": "markdown",
   "metadata": {},
   "source": [
    "**Model was applied to different partitions of the dataset and test_r2 is 0.851. There is a gap between train_r2 and test_r2 which means that there can be an overfitting in the model. Also test_r2_square is not high enough. To obtain a good model and handle overfitting, Ridge and Lasso Regression models will be applied.**"
   ]
  },
  {
   "cell_type": "markdown",
   "metadata": {
    "id": "IkKMCPoXLkKj"
   },
   "source": [
    "# 2. Regularization"
   ]
  },
  {
   "cell_type": "markdown",
   "metadata": {
    "id": "EnODVEgbLkKj"
   },
   "source": [
    "## 2.1 Ridge (Apply and evaluate)"
   ]
  },
  {
   "cell_type": "code",
   "execution_count": 32,
   "metadata": {
    "id": "Jivj_YF7M8p1"
   },
   "outputs": [],
   "source": [
    "ridge_model = Ridge(alpha=1, random_state = 58)"
   ]
  },
  {
   "cell_type": "code",
   "execution_count": 33,
   "metadata": {},
   "outputs": [
    {
     "data": {
      "text/plain": [
       "Ridge(alpha=1, random_state=58)"
      ]
     },
     "execution_count": 33,
     "metadata": {},
     "output_type": "execute_result"
    }
   ],
   "source": [
    "ridge_model.fit(X_train_scaled, y_train)"
   ]
  },
  {
   "cell_type": "code",
   "execution_count": 34,
   "metadata": {},
   "outputs": [],
   "source": [
    "y_pred_test_ridge = ridge_model.predict(X_test_scaled)\n",
    "y_pred_train_ridge = ridge_model.predict(X_train_scaled)"
   ]
  },
  {
   "cell_type": "code",
   "execution_count": 35,
   "metadata": {},
   "outputs": [
    {
     "data": {
      "text/html": [
       "<div>\n",
       "<style scoped>\n",
       "    .dataframe tbody tr th:only-of-type {\n",
       "        vertical-align: middle;\n",
       "    }\n",
       "\n",
       "    .dataframe tbody tr th {\n",
       "        vertical-align: top;\n",
       "    }\n",
       "\n",
       "    .dataframe thead th {\n",
       "        text-align: right;\n",
       "    }\n",
       "</style>\n",
       "<table border=\"1\" class=\"dataframe\">\n",
       "  <thead>\n",
       "    <tr style=\"text-align: right;\">\n",
       "      <th></th>\n",
       "      <th>ridge_alpha_1_train</th>\n",
       "      <th>ridge_alpha_1_test</th>\n",
       "    </tr>\n",
       "  </thead>\n",
       "  <tbody>\n",
       "    <tr>\n",
       "      <th>R2</th>\n",
       "      <td>0.910</td>\n",
       "      <td>0.845</td>\n",
       "    </tr>\n",
       "    <tr>\n",
       "      <th>mae</th>\n",
       "      <td>1.829</td>\n",
       "      <td>2.059</td>\n",
       "    </tr>\n",
       "    <tr>\n",
       "      <th>mse</th>\n",
       "      <td>5.369</td>\n",
       "      <td>9.668</td>\n",
       "    </tr>\n",
       "    <tr>\n",
       "      <th>rmse</th>\n",
       "      <td>2.317</td>\n",
       "      <td>3.109</td>\n",
       "    </tr>\n",
       "  </tbody>\n",
       "</table>\n",
       "</div>"
      ],
      "text/plain": [
       "      ridge_alpha_1_train  ridge_alpha_1_test\n",
       "R2                  0.910               0.845\n",
       "mae                 1.829               2.059\n",
       "mse                 5.369               9.668\n",
       "rmse                2.317               3.109"
      ]
     },
     "execution_count": 35,
     "metadata": {},
     "output_type": "execute_result"
    }
   ],
   "source": [
    "rs = train_val(y_train, y_pred_train_ridge, y_test, y_pred_test_ridge, 'ridge_alpha_1')\n",
    "rs"
   ]
  },
  {
   "cell_type": "code",
   "execution_count": 36,
   "metadata": {},
   "outputs": [
    {
     "data": {
      "text/html": [
       "<div>\n",
       "<style scoped>\n",
       "    .dataframe tbody tr th:only-of-type {\n",
       "        vertical-align: middle;\n",
       "    }\n",
       "\n",
       "    .dataframe tbody tr th {\n",
       "        vertical-align: top;\n",
       "    }\n",
       "\n",
       "    .dataframe thead th {\n",
       "        text-align: right;\n",
       "    }\n",
       "</style>\n",
       "<table border=\"1\" class=\"dataframe\">\n",
       "  <thead>\n",
       "    <tr style=\"text-align: right;\">\n",
       "      <th></th>\n",
       "      <th>linear_train</th>\n",
       "      <th>linear_test</th>\n",
       "      <th>ridge_alpha_1_train</th>\n",
       "      <th>ridge_alpha_1_test</th>\n",
       "    </tr>\n",
       "  </thead>\n",
       "  <tbody>\n",
       "    <tr>\n",
       "      <th>R2</th>\n",
       "      <td>0.911</td>\n",
       "      <td>0.846</td>\n",
       "      <td>0.910</td>\n",
       "      <td>0.845</td>\n",
       "    </tr>\n",
       "    <tr>\n",
       "      <th>mae</th>\n",
       "      <td>1.782</td>\n",
       "      <td>2.120</td>\n",
       "      <td>1.829</td>\n",
       "      <td>2.059</td>\n",
       "    </tr>\n",
       "    <tr>\n",
       "      <th>mse</th>\n",
       "      <td>5.298</td>\n",
       "      <td>9.628</td>\n",
       "      <td>5.369</td>\n",
       "      <td>9.668</td>\n",
       "    </tr>\n",
       "    <tr>\n",
       "      <th>rmse</th>\n",
       "      <td>2.302</td>\n",
       "      <td>3.103</td>\n",
       "      <td>2.317</td>\n",
       "      <td>3.109</td>\n",
       "    </tr>\n",
       "  </tbody>\n",
       "</table>\n",
       "</div>"
      ],
      "text/plain": [
       "      linear_train  linear_test  ridge_alpha_1_train  ridge_alpha_1_test\n",
       "R2           0.911        0.846                0.910               0.845\n",
       "mae          1.782        2.120                1.829               2.059\n",
       "mse          5.298        9.628                5.369               9.668\n",
       "rmse         2.302        3.103                2.317               3.109"
      ]
     },
     "execution_count": 36,
     "metadata": {},
     "output_type": "execute_result"
    }
   ],
   "source": [
    "pd.concat([ls, rs], axis=1)"
   ]
  },
  {
   "cell_type": "markdown",
   "metadata": {},
   "source": [
    "**Ridge method was applied and test scores didn't change. But in here we choose alpha randomly. Maybe with best alpha and cross validation, it can be obtained good results.** "
   ]
  },
  {
   "cell_type": "markdown",
   "metadata": {},
   "source": [
    "### Ridge best alpha value with CV"
   ]
  },
  {
   "cell_type": "code",
   "execution_count": 37,
   "metadata": {},
   "outputs": [
    {
     "data": {
      "text/plain": [
       "array([0.01, 0.02, 0.03, 0.04, 0.05, 0.06, 0.07, 0.08, 0.09, 0.1 , 0.11,\n",
       "       0.12, 0.13, 0.14, 0.15, 0.16, 0.17, 0.18, 0.19, 0.2 , 0.21, 0.22,\n",
       "       0.23, 0.24, 0.25, 0.26, 0.27, 0.28, 0.29, 0.3 , 0.31, 0.32, 0.33,\n",
       "       0.34, 0.35, 0.36, 0.37, 0.38, 0.39, 0.4 , 0.41, 0.42, 0.43, 0.44,\n",
       "       0.45, 0.46, 0.47, 0.48, 0.49, 0.5 , 0.51, 0.52, 0.53, 0.54, 0.55,\n",
       "       0.56, 0.57, 0.58, 0.59, 0.6 , 0.61, 0.62, 0.63, 0.64, 0.65, 0.66,\n",
       "       0.67, 0.68, 0.69, 0.7 , 0.71, 0.72, 0.73, 0.74, 0.75, 0.76, 0.77,\n",
       "       0.78, 0.79, 0.8 , 0.81, 0.82, 0.83, 0.84, 0.85, 0.86, 0.87, 0.88,\n",
       "       0.89, 0.9 , 0.91, 0.92, 0.93, 0.94, 0.95, 0.96, 0.97, 0.98, 0.99,\n",
       "       1.  ])"
      ]
     },
     "execution_count": 37,
     "metadata": {},
     "output_type": "execute_result"
    }
   ],
   "source": [
    "alpha_space = np.linspace(0.01, 1, 100)\n",
    "alpha_space"
   ]
  },
  {
   "cell_type": "code",
   "execution_count": 38,
   "metadata": {},
   "outputs": [],
   "source": [
    "ridge_cv_model = RidgeCV(alphas = alpha_space, cv = 5, scoring = \"neg_root_mean_squared_error\")"
   ]
  },
  {
   "cell_type": "code",
   "execution_count": 39,
   "metadata": {},
   "outputs": [
    {
     "data": {
      "text/plain": [
       "RidgeCV(alphas=array([0.01, 0.02, 0.03, 0.04, 0.05, 0.06, 0.07, 0.08, 0.09, 0.1 , 0.11,\n",
       "       0.12, 0.13, 0.14, 0.15, 0.16, 0.17, 0.18, 0.19, 0.2 , 0.21, 0.22,\n",
       "       0.23, 0.24, 0.25, 0.26, 0.27, 0.28, 0.29, 0.3 , 0.31, 0.32, 0.33,\n",
       "       0.34, 0.35, 0.36, 0.37, 0.38, 0.39, 0.4 , 0.41, 0.42, 0.43, 0.44,\n",
       "       0.45, 0.46, 0.47, 0.48, 0.49, 0.5 , 0.51, 0.52, 0.53, 0.54, 0.55,\n",
       "       0.56, 0.57, 0.58, 0.59, 0.6 , 0.61, 0.62, 0.63, 0.64, 0.65, 0.66,\n",
       "       0.67, 0.68, 0.69, 0.7 , 0.71, 0.72, 0.73, 0.74, 0.75, 0.76, 0.77,\n",
       "       0.78, 0.79, 0.8 , 0.81, 0.82, 0.83, 0.84, 0.85, 0.86, 0.87, 0.88,\n",
       "       0.89, 0.9 , 0.91, 0.92, 0.93, 0.94, 0.95, 0.96, 0.97, 0.98, 0.99,\n",
       "       1.  ]),\n",
       "        cv=5, scoring='neg_root_mean_squared_error')"
      ]
     },
     "execution_count": 39,
     "metadata": {},
     "output_type": "execute_result"
    }
   ],
   "source": [
    "ridge_cv_model.fit(X_train_scaled, y_train)"
   ]
  },
  {
   "cell_type": "code",
   "execution_count": 40,
   "metadata": {},
   "outputs": [],
   "source": [
    "y_pred_rcv = ridge_cv_model.predict(X_test_scaled)\n",
    "y_train_pred_rcv = ridge_cv_model.predict(X_train_scaled)"
   ]
  },
  {
   "cell_type": "code",
   "execution_count": 41,
   "metadata": {},
   "outputs": [
    {
     "data": {
      "text/html": [
       "<div>\n",
       "<style scoped>\n",
       "    .dataframe tbody tr th:only-of-type {\n",
       "        vertical-align: middle;\n",
       "    }\n",
       "\n",
       "    .dataframe tbody tr th {\n",
       "        vertical-align: top;\n",
       "    }\n",
       "\n",
       "    .dataframe thead th {\n",
       "        text-align: right;\n",
       "    }\n",
       "</style>\n",
       "<table border=\"1\" class=\"dataframe\">\n",
       "  <thead>\n",
       "    <tr style=\"text-align: right;\">\n",
       "      <th></th>\n",
       "      <th>ridge_cv_train</th>\n",
       "      <th>ridge_cv_test</th>\n",
       "    </tr>\n",
       "  </thead>\n",
       "  <tbody>\n",
       "    <tr>\n",
       "      <th>R2</th>\n",
       "      <td>0.911</td>\n",
       "      <td>0.847</td>\n",
       "    </tr>\n",
       "    <tr>\n",
       "      <th>mae</th>\n",
       "      <td>1.813</td>\n",
       "      <td>2.066</td>\n",
       "    </tr>\n",
       "    <tr>\n",
       "      <th>mse</th>\n",
       "      <td>5.338</td>\n",
       "      <td>9.592</td>\n",
       "    </tr>\n",
       "    <tr>\n",
       "      <th>rmse</th>\n",
       "      <td>2.310</td>\n",
       "      <td>3.097</td>\n",
       "    </tr>\n",
       "  </tbody>\n",
       "</table>\n",
       "</div>"
      ],
      "text/plain": [
       "      ridge_cv_train  ridge_cv_test\n",
       "R2             0.911          0.847\n",
       "mae            1.813          2.066\n",
       "mse            5.338          9.592\n",
       "rmse           2.310          3.097"
      ]
     },
     "execution_count": 41,
     "metadata": {},
     "output_type": "execute_result"
    }
   ],
   "source": [
    "rcs = train_val(y_train, y_train_pred_rcv, y_test, y_pred_rcv, \"ridge_cv\")\n",
    "rcs"
   ]
  },
  {
   "cell_type": "code",
   "execution_count": 42,
   "metadata": {},
   "outputs": [
    {
     "data": {
      "text/html": [
       "<div>\n",
       "<style scoped>\n",
       "    .dataframe tbody tr th:only-of-type {\n",
       "        vertical-align: middle;\n",
       "    }\n",
       "\n",
       "    .dataframe tbody tr th {\n",
       "        vertical-align: top;\n",
       "    }\n",
       "\n",
       "    .dataframe thead th {\n",
       "        text-align: right;\n",
       "    }\n",
       "</style>\n",
       "<table border=\"1\" class=\"dataframe\">\n",
       "  <thead>\n",
       "    <tr style=\"text-align: right;\">\n",
       "      <th></th>\n",
       "      <th>linear_train</th>\n",
       "      <th>linear_test</th>\n",
       "      <th>ridge_alpha_1_train</th>\n",
       "      <th>ridge_alpha_1_test</th>\n",
       "      <th>ridge_cv_train</th>\n",
       "      <th>ridge_cv_test</th>\n",
       "    </tr>\n",
       "  </thead>\n",
       "  <tbody>\n",
       "    <tr>\n",
       "      <th>R2</th>\n",
       "      <td>0.911</td>\n",
       "      <td>0.846</td>\n",
       "      <td>0.910</td>\n",
       "      <td>0.845</td>\n",
       "      <td>0.911</td>\n",
       "      <td>0.847</td>\n",
       "    </tr>\n",
       "    <tr>\n",
       "      <th>mae</th>\n",
       "      <td>1.782</td>\n",
       "      <td>2.120</td>\n",
       "      <td>1.829</td>\n",
       "      <td>2.059</td>\n",
       "      <td>1.813</td>\n",
       "      <td>2.066</td>\n",
       "    </tr>\n",
       "    <tr>\n",
       "      <th>mse</th>\n",
       "      <td>5.298</td>\n",
       "      <td>9.628</td>\n",
       "      <td>5.369</td>\n",
       "      <td>9.668</td>\n",
       "      <td>5.338</td>\n",
       "      <td>9.592</td>\n",
       "    </tr>\n",
       "    <tr>\n",
       "      <th>rmse</th>\n",
       "      <td>2.302</td>\n",
       "      <td>3.103</td>\n",
       "      <td>2.317</td>\n",
       "      <td>3.109</td>\n",
       "      <td>2.310</td>\n",
       "      <td>3.097</td>\n",
       "    </tr>\n",
       "  </tbody>\n",
       "</table>\n",
       "</div>"
      ],
      "text/plain": [
       "      linear_train  linear_test  ridge_alpha_1_train  ridge_alpha_1_test  \\\n",
       "R2           0.911        0.846                0.910               0.845   \n",
       "mae          1.782        2.120                1.829               2.059   \n",
       "mse          5.298        9.628                5.369               9.668   \n",
       "rmse         2.302        3.103                2.317               3.109   \n",
       "\n",
       "      ridge_cv_train  ridge_cv_test  \n",
       "R2             0.911          0.847  \n",
       "mae            1.813          2.066  \n",
       "mse            5.338          9.592  \n",
       "rmse           2.310          3.097  "
      ]
     },
     "execution_count": 42,
     "metadata": {},
     "output_type": "execute_result"
    }
   ],
   "source": [
    "pd.concat([ls, rs, rcs], axis = 1)"
   ]
  },
  {
   "cell_type": "markdown",
   "metadata": {},
   "source": [
    "**With best alpha and cross validation in Ridge method test scores didn't change.** "
   ]
  },
  {
   "cell_type": "markdown",
   "metadata": {
    "id": "V6YuerUULkKl"
   },
   "source": [
    "## 2.2 Lasso (Apply and evalute)"
   ]
  },
  {
   "cell_type": "code",
   "execution_count": 43,
   "metadata": {},
   "outputs": [
    {
     "data": {
      "text/plain": [
       "Lasso(alpha=1, random_state=58)"
      ]
     },
     "execution_count": 43,
     "metadata": {},
     "output_type": "execute_result"
    }
   ],
   "source": [
    "lasso_model = Lasso(alpha=1, random_state = 58)\n",
    "lasso_model.fit(X_train_scaled, y_train)"
   ]
  },
  {
   "cell_type": "code",
   "execution_count": 44,
   "metadata": {
    "id": "U7PzzbLqM8K9"
   },
   "outputs": [],
   "source": [
    "y_pred_lasso = lasso_model.predict(X_test_scaled)\n",
    "y_train_pred_lasso = lasso_model.predict(X_train_scaled)"
   ]
  },
  {
   "cell_type": "code",
   "execution_count": 45,
   "metadata": {},
   "outputs": [
    {
     "data": {
      "text/html": [
       "<div>\n",
       "<style scoped>\n",
       "    .dataframe tbody tr th:only-of-type {\n",
       "        vertical-align: middle;\n",
       "    }\n",
       "\n",
       "    .dataframe tbody tr th {\n",
       "        vertical-align: top;\n",
       "    }\n",
       "\n",
       "    .dataframe thead th {\n",
       "        text-align: right;\n",
       "    }\n",
       "</style>\n",
       "<table border=\"1\" class=\"dataframe\">\n",
       "  <thead>\n",
       "    <tr style=\"text-align: right;\">\n",
       "      <th></th>\n",
       "      <th>lasso_train</th>\n",
       "      <th>lasso_test</th>\n",
       "    </tr>\n",
       "  </thead>\n",
       "  <tbody>\n",
       "    <tr>\n",
       "      <th>R2</th>\n",
       "      <td>0.772</td>\n",
       "      <td>0.618</td>\n",
       "    </tr>\n",
       "    <tr>\n",
       "      <th>mae</th>\n",
       "      <td>2.837</td>\n",
       "      <td>3.844</td>\n",
       "    </tr>\n",
       "    <tr>\n",
       "      <th>mse</th>\n",
       "      <td>13.638</td>\n",
       "      <td>23.888</td>\n",
       "    </tr>\n",
       "    <tr>\n",
       "      <th>rmse</th>\n",
       "      <td>3.693</td>\n",
       "      <td>4.888</td>\n",
       "    </tr>\n",
       "  </tbody>\n",
       "</table>\n",
       "</div>"
      ],
      "text/plain": [
       "      lasso_train  lasso_test\n",
       "R2          0.772       0.618\n",
       "mae         2.837       3.844\n",
       "mse        13.638      23.888\n",
       "rmse        3.693       4.888"
      ]
     },
     "execution_count": 45,
     "metadata": {},
     "output_type": "execute_result"
    }
   ],
   "source": [
    "lss = train_val(y_train, y_train_pred_lasso, y_test, y_pred_lasso, \"lasso\")\n",
    "lss"
   ]
  },
  {
   "cell_type": "code",
   "execution_count": 46,
   "metadata": {
    "scrolled": false
   },
   "outputs": [
    {
     "data": {
      "text/html": [
       "<div>\n",
       "<style scoped>\n",
       "    .dataframe tbody tr th:only-of-type {\n",
       "        vertical-align: middle;\n",
       "    }\n",
       "\n",
       "    .dataframe tbody tr th {\n",
       "        vertical-align: top;\n",
       "    }\n",
       "\n",
       "    .dataframe thead th {\n",
       "        text-align: right;\n",
       "    }\n",
       "</style>\n",
       "<table border=\"1\" class=\"dataframe\">\n",
       "  <thead>\n",
       "    <tr style=\"text-align: right;\">\n",
       "      <th></th>\n",
       "      <th>linear_train</th>\n",
       "      <th>linear_test</th>\n",
       "      <th>ridge_alpha_1_train</th>\n",
       "      <th>ridge_alpha_1_test</th>\n",
       "      <th>ridge_cv_train</th>\n",
       "      <th>ridge_cv_test</th>\n",
       "      <th>lasso_train</th>\n",
       "      <th>lasso_test</th>\n",
       "    </tr>\n",
       "  </thead>\n",
       "  <tbody>\n",
       "    <tr>\n",
       "      <th>R2</th>\n",
       "      <td>0.911</td>\n",
       "      <td>0.846</td>\n",
       "      <td>0.910</td>\n",
       "      <td>0.845</td>\n",
       "      <td>0.911</td>\n",
       "      <td>0.847</td>\n",
       "      <td>0.772</td>\n",
       "      <td>0.618</td>\n",
       "    </tr>\n",
       "    <tr>\n",
       "      <th>mae</th>\n",
       "      <td>1.782</td>\n",
       "      <td>2.120</td>\n",
       "      <td>1.829</td>\n",
       "      <td>2.059</td>\n",
       "      <td>1.813</td>\n",
       "      <td>2.066</td>\n",
       "      <td>2.837</td>\n",
       "      <td>3.844</td>\n",
       "    </tr>\n",
       "    <tr>\n",
       "      <th>mse</th>\n",
       "      <td>5.298</td>\n",
       "      <td>9.628</td>\n",
       "      <td>5.369</td>\n",
       "      <td>9.668</td>\n",
       "      <td>5.338</td>\n",
       "      <td>9.592</td>\n",
       "      <td>13.638</td>\n",
       "      <td>23.888</td>\n",
       "    </tr>\n",
       "    <tr>\n",
       "      <th>rmse</th>\n",
       "      <td>2.302</td>\n",
       "      <td>3.103</td>\n",
       "      <td>2.317</td>\n",
       "      <td>3.109</td>\n",
       "      <td>2.310</td>\n",
       "      <td>3.097</td>\n",
       "      <td>3.693</td>\n",
       "      <td>4.888</td>\n",
       "    </tr>\n",
       "  </tbody>\n",
       "</table>\n",
       "</div>"
      ],
      "text/plain": [
       "      linear_train  linear_test  ridge_alpha_1_train  ridge_alpha_1_test  \\\n",
       "R2           0.911        0.846                0.910               0.845   \n",
       "mae          1.782        2.120                1.829               2.059   \n",
       "mse          5.298        9.628                5.369               9.668   \n",
       "rmse         2.302        3.103                2.317               3.109   \n",
       "\n",
       "      ridge_cv_train  ridge_cv_test  lasso_train  lasso_test  \n",
       "R2             0.911          0.847        0.772       0.618  \n",
       "mae            1.813          2.066        2.837       3.844  \n",
       "mse            5.338          9.592       13.638      23.888  \n",
       "rmse           2.310          3.097        3.693       4.888  "
      ]
     },
     "execution_count": 46,
     "metadata": {},
     "output_type": "execute_result"
    }
   ],
   "source": [
    "pd.concat([ls, rs, rcs, lss], axis = 1)"
   ]
  },
  {
   "cell_type": "markdown",
   "metadata": {},
   "source": [
    "**Lasso regression was applied and test scores didn't deccrease. But in here we choose alpha randomly. Maybe with best alpha and cross validation, it can be obtained good results.** "
   ]
  },
  {
   "cell_type": "markdown",
   "metadata": {},
   "source": [
    "### Lasso Regression with best alpha and cv"
   ]
  },
  {
   "cell_type": "code",
   "execution_count": 47,
   "metadata": {},
   "outputs": [],
   "source": [
    "lasso_cv_model = LassoCV(alphas = alpha_space, cv = 5, max_iter=100000, random_state=58) "
   ]
  },
  {
   "cell_type": "code",
   "execution_count": 48,
   "metadata": {},
   "outputs": [
    {
     "data": {
      "text/plain": [
       "LassoCV(alphas=array([0.01, 0.02, 0.03, 0.04, 0.05, 0.06, 0.07, 0.08, 0.09, 0.1 , 0.11,\n",
       "       0.12, 0.13, 0.14, 0.15, 0.16, 0.17, 0.18, 0.19, 0.2 , 0.21, 0.22,\n",
       "       0.23, 0.24, 0.25, 0.26, 0.27, 0.28, 0.29, 0.3 , 0.31, 0.32, 0.33,\n",
       "       0.34, 0.35, 0.36, 0.37, 0.38, 0.39, 0.4 , 0.41, 0.42, 0.43, 0.44,\n",
       "       0.45, 0.46, 0.47, 0.48, 0.49, 0.5 , 0.51, 0.52, 0.53, 0.54, 0.55,\n",
       "       0.56, 0.57, 0.58, 0.59, 0.6 , 0.61, 0.62, 0.63, 0.64, 0.65, 0.66,\n",
       "       0.67, 0.68, 0.69, 0.7 , 0.71, 0.72, 0.73, 0.74, 0.75, 0.76, 0.77,\n",
       "       0.78, 0.79, 0.8 , 0.81, 0.82, 0.83, 0.84, 0.85, 0.86, 0.87, 0.88,\n",
       "       0.89, 0.9 , 0.91, 0.92, 0.93, 0.94, 0.95, 0.96, 0.97, 0.98, 0.99,\n",
       "       1.  ]),\n",
       "        cv=5, max_iter=100000, random_state=58)"
      ]
     },
     "execution_count": 48,
     "metadata": {},
     "output_type": "execute_result"
    }
   ],
   "source": [
    "lasso_cv_model.fit(X_train_scaled, y_train)"
   ]
  },
  {
   "cell_type": "code",
   "execution_count": 49,
   "metadata": {},
   "outputs": [
    {
     "data": {
      "text/plain": [
       "0.04"
      ]
     },
     "execution_count": 49,
     "metadata": {},
     "output_type": "execute_result"
    }
   ],
   "source": [
    "lasso_cv_model.alpha_"
   ]
  },
  {
   "cell_type": "code",
   "execution_count": 50,
   "metadata": {},
   "outputs": [],
   "source": [
    "y_pred_lcv = lasso_cv_model.predict(X_test_scaled)  \n",
    "y_train_pred_lcv = lasso_cv_model.predict(X_train_scaled)"
   ]
  },
  {
   "cell_type": "code",
   "execution_count": 51,
   "metadata": {},
   "outputs": [
    {
     "data": {
      "text/html": [
       "<div>\n",
       "<style scoped>\n",
       "    .dataframe tbody tr th:only-of-type {\n",
       "        vertical-align: middle;\n",
       "    }\n",
       "\n",
       "    .dataframe tbody tr th {\n",
       "        vertical-align: top;\n",
       "    }\n",
       "\n",
       "    .dataframe thead th {\n",
       "        text-align: right;\n",
       "    }\n",
       "</style>\n",
       "<table border=\"1\" class=\"dataframe\">\n",
       "  <thead>\n",
       "    <tr style=\"text-align: right;\">\n",
       "      <th></th>\n",
       "      <th>lasso_cv_train</th>\n",
       "      <th>lasso_cv_test</th>\n",
       "    </tr>\n",
       "  </thead>\n",
       "  <tbody>\n",
       "    <tr>\n",
       "      <th>R2</th>\n",
       "      <td>0.909</td>\n",
       "      <td>0.848</td>\n",
       "    </tr>\n",
       "    <tr>\n",
       "      <th>mae</th>\n",
       "      <td>1.842</td>\n",
       "      <td>2.057</td>\n",
       "    </tr>\n",
       "    <tr>\n",
       "      <th>mse</th>\n",
       "      <td>5.446</td>\n",
       "      <td>9.524</td>\n",
       "    </tr>\n",
       "    <tr>\n",
       "      <th>rmse</th>\n",
       "      <td>2.334</td>\n",
       "      <td>3.086</td>\n",
       "    </tr>\n",
       "  </tbody>\n",
       "</table>\n",
       "</div>"
      ],
      "text/plain": [
       "      lasso_cv_train  lasso_cv_test\n",
       "R2             0.909          0.848\n",
       "mae            1.842          2.057\n",
       "mse            5.446          9.524\n",
       "rmse           2.334          3.086"
      ]
     },
     "execution_count": 51,
     "metadata": {},
     "output_type": "execute_result"
    }
   ],
   "source": [
    "lcs = train_val(y_train, y_train_pred_lcv, y_test, y_pred_lcv, \"lasso_cv\")\n",
    "lcs"
   ]
  },
  {
   "cell_type": "code",
   "execution_count": 52,
   "metadata": {},
   "outputs": [
    {
     "data": {
      "text/html": [
       "<div>\n",
       "<style scoped>\n",
       "    .dataframe tbody tr th:only-of-type {\n",
       "        vertical-align: middle;\n",
       "    }\n",
       "\n",
       "    .dataframe tbody tr th {\n",
       "        vertical-align: top;\n",
       "    }\n",
       "\n",
       "    .dataframe thead th {\n",
       "        text-align: right;\n",
       "    }\n",
       "</style>\n",
       "<table border=\"1\" class=\"dataframe\">\n",
       "  <thead>\n",
       "    <tr style=\"text-align: right;\">\n",
       "      <th></th>\n",
       "      <th>linear_train</th>\n",
       "      <th>linear_test</th>\n",
       "      <th>ridge_alpha_1_train</th>\n",
       "      <th>ridge_alpha_1_test</th>\n",
       "      <th>ridge_cv_train</th>\n",
       "      <th>ridge_cv_test</th>\n",
       "      <th>lasso_train</th>\n",
       "      <th>lasso_test</th>\n",
       "      <th>lasso_cv_train</th>\n",
       "      <th>lasso_cv_test</th>\n",
       "    </tr>\n",
       "  </thead>\n",
       "  <tbody>\n",
       "    <tr>\n",
       "      <th>R2</th>\n",
       "      <td>0.911</td>\n",
       "      <td>0.846</td>\n",
       "      <td>0.910</td>\n",
       "      <td>0.845</td>\n",
       "      <td>0.911</td>\n",
       "      <td>0.847</td>\n",
       "      <td>0.772</td>\n",
       "      <td>0.618</td>\n",
       "      <td>0.909</td>\n",
       "      <td>0.848</td>\n",
       "    </tr>\n",
       "    <tr>\n",
       "      <th>mae</th>\n",
       "      <td>1.782</td>\n",
       "      <td>2.120</td>\n",
       "      <td>1.829</td>\n",
       "      <td>2.059</td>\n",
       "      <td>1.813</td>\n",
       "      <td>2.066</td>\n",
       "      <td>2.837</td>\n",
       "      <td>3.844</td>\n",
       "      <td>1.842</td>\n",
       "      <td>2.057</td>\n",
       "    </tr>\n",
       "    <tr>\n",
       "      <th>mse</th>\n",
       "      <td>5.298</td>\n",
       "      <td>9.628</td>\n",
       "      <td>5.369</td>\n",
       "      <td>9.668</td>\n",
       "      <td>5.338</td>\n",
       "      <td>9.592</td>\n",
       "      <td>13.638</td>\n",
       "      <td>23.888</td>\n",
       "      <td>5.446</td>\n",
       "      <td>9.524</td>\n",
       "    </tr>\n",
       "    <tr>\n",
       "      <th>rmse</th>\n",
       "      <td>2.302</td>\n",
       "      <td>3.103</td>\n",
       "      <td>2.317</td>\n",
       "      <td>3.109</td>\n",
       "      <td>2.310</td>\n",
       "      <td>3.097</td>\n",
       "      <td>3.693</td>\n",
       "      <td>4.888</td>\n",
       "      <td>2.334</td>\n",
       "      <td>3.086</td>\n",
       "    </tr>\n",
       "  </tbody>\n",
       "</table>\n",
       "</div>"
      ],
      "text/plain": [
       "      linear_train  linear_test  ridge_alpha_1_train  ridge_alpha_1_test  \\\n",
       "R2           0.911        0.846                0.910               0.845   \n",
       "mae          1.782        2.120                1.829               2.059   \n",
       "mse          5.298        9.628                5.369               9.668   \n",
       "rmse         2.302        3.103                2.317               3.109   \n",
       "\n",
       "      ridge_cv_train  ridge_cv_test  lasso_train  lasso_test  lasso_cv_train  \\\n",
       "R2             0.911          0.847        0.772       0.618           0.909   \n",
       "mae            1.813          2.066        2.837       3.844           1.842   \n",
       "mse            5.338          9.592       13.638      23.888           5.446   \n",
       "rmse           2.310          3.097        3.693       4.888           2.334   \n",
       "\n",
       "      lasso_cv_test  \n",
       "R2            0.848  \n",
       "mae           2.057  \n",
       "mse           9.524  \n",
       "rmse          3.086  "
      ]
     },
     "execution_count": 52,
     "metadata": {},
     "output_type": "execute_result"
    }
   ],
   "source": [
    "pd.concat([ls,rs, rcs, lss, lcs], axis = 1)"
   ]
  },
  {
   "cell_type": "markdown",
   "metadata": {},
   "source": [
    "**With best alpha and cross validation in Lasso regression, test scores didn't change.** "
   ]
  },
  {
   "cell_type": "markdown",
   "metadata": {
    "id": "B_4SjDxcLkKn"
   },
   "source": [
    "## 2.3 Elastic-Net (Apply and evaluate )\n",
    "* Use Gridsearch for hyperparameter tuning instead of ElacticnetCV"
   ]
  },
  {
   "cell_type": "code",
   "execution_count": 53,
   "metadata": {
    "id": "U_cMyIkXLkKs"
   },
   "outputs": [],
   "source": [
    "parametersGrid = {\"max_iter\": [1, 5, 10],\n",
    "                      \"alpha\": [0.0001, 0.001, 0.01, 0.1, 1, 10, 100],\n",
    "                      \"l1_ratio\": np.arange(0.0, 1.0, 0.1)}\n",
    "\n",
    "enet = ElasticNet()\n",
    "grid = GridSearchCV(enet, parametersGrid, scoring='r2', cv=5)\n",
    "grid.fit(X_train_scaled, y_train)\n",
    "y_pred_test_enet = grid.predict(X_test_scaled)\n",
    "y_pred_train_enet = grid.predict(X_train_scaled)"
   ]
  },
  {
   "cell_type": "code",
   "execution_count": 54,
   "metadata": {},
   "outputs": [
    {
     "data": {
      "text/html": [
       "<div>\n",
       "<style scoped>\n",
       "    .dataframe tbody tr th:only-of-type {\n",
       "        vertical-align: middle;\n",
       "    }\n",
       "\n",
       "    .dataframe tbody tr th {\n",
       "        vertical-align: top;\n",
       "    }\n",
       "\n",
       "    .dataframe thead th {\n",
       "        text-align: right;\n",
       "    }\n",
       "</style>\n",
       "<table border=\"1\" class=\"dataframe\">\n",
       "  <thead>\n",
       "    <tr style=\"text-align: right;\">\n",
       "      <th></th>\n",
       "      <th>ENet_train</th>\n",
       "      <th>ENet_test</th>\n",
       "    </tr>\n",
       "  </thead>\n",
       "  <tbody>\n",
       "    <tr>\n",
       "      <th>R2</th>\n",
       "      <td>0.910</td>\n",
       "      <td>0.847</td>\n",
       "    </tr>\n",
       "    <tr>\n",
       "      <th>mae</th>\n",
       "      <td>1.817</td>\n",
       "      <td>2.066</td>\n",
       "    </tr>\n",
       "    <tr>\n",
       "      <th>mse</th>\n",
       "      <td>5.372</td>\n",
       "      <td>9.548</td>\n",
       "    </tr>\n",
       "    <tr>\n",
       "      <th>rmse</th>\n",
       "      <td>2.318</td>\n",
       "      <td>3.090</td>\n",
       "    </tr>\n",
       "  </tbody>\n",
       "</table>\n",
       "</div>"
      ],
      "text/plain": [
       "      ENet_train  ENet_test\n",
       "R2         0.910      0.847\n",
       "mae        1.817      2.066\n",
       "mse        5.372      9.548\n",
       "rmse       2.318      3.090"
      ]
     },
     "execution_count": 54,
     "metadata": {},
     "output_type": "execute_result"
    }
   ],
   "source": [
    "enet = train_val(y_train, y_pred_train_enet, y_test, y_pred_test_enet, \"ENet\")\n",
    "enet"
   ]
  },
  {
   "cell_type": "code",
   "execution_count": 55,
   "metadata": {},
   "outputs": [
    {
     "data": {
      "text/html": [
       "<div>\n",
       "<style scoped>\n",
       "    .dataframe tbody tr th:only-of-type {\n",
       "        vertical-align: middle;\n",
       "    }\n",
       "\n",
       "    .dataframe tbody tr th {\n",
       "        vertical-align: top;\n",
       "    }\n",
       "\n",
       "    .dataframe thead th {\n",
       "        text-align: right;\n",
       "    }\n",
       "</style>\n",
       "<table border=\"1\" class=\"dataframe\">\n",
       "  <thead>\n",
       "    <tr style=\"text-align: right;\">\n",
       "      <th></th>\n",
       "      <th>linear_train</th>\n",
       "      <th>linear_test</th>\n",
       "      <th>ridge_alpha_1_train</th>\n",
       "      <th>ridge_alpha_1_test</th>\n",
       "      <th>ridge_cv_train</th>\n",
       "      <th>ridge_cv_test</th>\n",
       "      <th>lasso_train</th>\n",
       "      <th>lasso_test</th>\n",
       "      <th>lasso_cv_train</th>\n",
       "      <th>lasso_cv_test</th>\n",
       "      <th>ENet_train</th>\n",
       "      <th>ENet_test</th>\n",
       "    </tr>\n",
       "  </thead>\n",
       "  <tbody>\n",
       "    <tr>\n",
       "      <th>R2</th>\n",
       "      <td>0.911</td>\n",
       "      <td>0.846</td>\n",
       "      <td>0.910</td>\n",
       "      <td>0.845</td>\n",
       "      <td>0.911</td>\n",
       "      <td>0.847</td>\n",
       "      <td>0.772</td>\n",
       "      <td>0.618</td>\n",
       "      <td>0.909</td>\n",
       "      <td>0.848</td>\n",
       "      <td>0.910</td>\n",
       "      <td>0.847</td>\n",
       "    </tr>\n",
       "    <tr>\n",
       "      <th>mae</th>\n",
       "      <td>1.782</td>\n",
       "      <td>2.120</td>\n",
       "      <td>1.829</td>\n",
       "      <td>2.059</td>\n",
       "      <td>1.813</td>\n",
       "      <td>2.066</td>\n",
       "      <td>2.837</td>\n",
       "      <td>3.844</td>\n",
       "      <td>1.842</td>\n",
       "      <td>2.057</td>\n",
       "      <td>1.817</td>\n",
       "      <td>2.066</td>\n",
       "    </tr>\n",
       "    <tr>\n",
       "      <th>mse</th>\n",
       "      <td>5.298</td>\n",
       "      <td>9.628</td>\n",
       "      <td>5.369</td>\n",
       "      <td>9.668</td>\n",
       "      <td>5.338</td>\n",
       "      <td>9.592</td>\n",
       "      <td>13.638</td>\n",
       "      <td>23.888</td>\n",
       "      <td>5.446</td>\n",
       "      <td>9.524</td>\n",
       "      <td>5.372</td>\n",
       "      <td>9.548</td>\n",
       "    </tr>\n",
       "    <tr>\n",
       "      <th>rmse</th>\n",
       "      <td>2.302</td>\n",
       "      <td>3.103</td>\n",
       "      <td>2.317</td>\n",
       "      <td>3.109</td>\n",
       "      <td>2.310</td>\n",
       "      <td>3.097</td>\n",
       "      <td>3.693</td>\n",
       "      <td>4.888</td>\n",
       "      <td>2.334</td>\n",
       "      <td>3.086</td>\n",
       "      <td>2.318</td>\n",
       "      <td>3.090</td>\n",
       "    </tr>\n",
       "  </tbody>\n",
       "</table>\n",
       "</div>"
      ],
      "text/plain": [
       "      linear_train  linear_test  ridge_alpha_1_train  ridge_alpha_1_test  \\\n",
       "R2           0.911        0.846                0.910               0.845   \n",
       "mae          1.782        2.120                1.829               2.059   \n",
       "mse          5.298        9.628                5.369               9.668   \n",
       "rmse         2.302        3.103                2.317               3.109   \n",
       "\n",
       "      ridge_cv_train  ridge_cv_test  lasso_train  lasso_test  lasso_cv_train  \\\n",
       "R2             0.911          0.847        0.772       0.618           0.909   \n",
       "mae            1.813          2.066        2.837       3.844           1.842   \n",
       "mse            5.338          9.592       13.638      23.888           5.446   \n",
       "rmse           2.310          3.097        3.693       4.888           2.334   \n",
       "\n",
       "      lasso_cv_test  ENet_train  ENet_test  \n",
       "R2            0.848       0.910      0.847  \n",
       "mae           2.057       1.817      2.066  \n",
       "mse           9.524       5.372      9.548  \n",
       "rmse          3.086       2.318      3.090  "
      ]
     },
     "execution_count": 55,
     "metadata": {},
     "output_type": "execute_result"
    }
   ],
   "source": [
    "pd.concat([ls,rs, rcs, lss, lcs,enet], axis = 1)"
   ]
  },
  {
   "cell_type": "markdown",
   "metadata": {},
   "source": [
    "## 3. Polynomial Regression"
   ]
  },
  {
   "cell_type": "code",
   "execution_count": 56,
   "metadata": {},
   "outputs": [],
   "source": [
    "def poly(d):\n",
    "    \n",
    "    train_rmse_errors = []\n",
    "    test_rmse_errors = []\n",
    "    number_of_features = []\n",
    "    degrees=[]\n",
    "    \n",
    "    for i in range(1, d):\n",
    "        polynomial_converter = PolynomialFeatures(degree = i, include_bias =False)\n",
    "        poly_features = polynomial_converter.fit_transform(X)\n",
    "        \n",
    "        X_train, X_test, y_train, y_test = train_test_split(poly_features, y, test_size=0.3, random_state=58)\n",
    "        \n",
    "        scaler = StandardScaler()\n",
    "        scaler.fit(X_train)\n",
    "        X_train_scaled = scaler.transform(X_train) \n",
    "        X_test_scaled = scaler.transform(X_test)\n",
    "        \n",
    "        model = LinearRegression(fit_intercept=True)\n",
    "        model.fit(X_train_scaled, y_train)\n",
    "        \n",
    "        train_pred = model.predict(X_train_scaled)\n",
    "        test_pred = model.predict(X_test_scaled)\n",
    "        \n",
    "        train_RMSE = np.sqrt(mean_squared_error(y_train,train_pred))\n",
    "        test_RMSE = np.sqrt(mean_squared_error(y_test,test_pred))\n",
    "        \n",
    "        train_rmse_errors.append(train_RMSE)\n",
    "        test_rmse_errors.append(test_RMSE)\n",
    "        \n",
    "        number_of_features.append(poly_features.shape[1])\n",
    "        degrees.append(i)\n",
    "        \n",
    "    return pd.DataFrame({\"train_rmse_errors\": train_rmse_errors, \"test_rmse_errors\":test_rmse_errors, \"number of features\":number_of_features, \"Degree\":degrees}, \n",
    "                        index=range(1,d))"
   ]
  },
  {
   "cell_type": "code",
   "execution_count": 58,
   "metadata": {},
   "outputs": [
    {
     "data": {
      "text/html": [
       "<div>\n",
       "<style scoped>\n",
       "    .dataframe tbody tr th:only-of-type {\n",
       "        vertical-align: middle;\n",
       "    }\n",
       "\n",
       "    .dataframe tbody tr th {\n",
       "        vertical-align: top;\n",
       "    }\n",
       "\n",
       "    .dataframe thead th {\n",
       "        text-align: right;\n",
       "    }\n",
       "</style>\n",
       "<table border=\"1\" class=\"dataframe\">\n",
       "  <thead>\n",
       "    <tr style=\"text-align: right;\">\n",
       "      <th></th>\n",
       "      <th>train_rmse_errors</th>\n",
       "      <th>test_rmse_errors</th>\n",
       "      <th>number of features</th>\n",
       "      <th>Degree</th>\n",
       "    </tr>\n",
       "  </thead>\n",
       "  <tbody>\n",
       "    <tr>\n",
       "      <th>1</th>\n",
       "      <td>2.302</td>\n",
       "      <td>3.103</td>\n",
       "      <td>7</td>\n",
       "      <td>1</td>\n",
       "    </tr>\n",
       "    <tr>\n",
       "      <th>2</th>\n",
       "      <td>0.377</td>\n",
       "      <td>1.071</td>\n",
       "      <td>35</td>\n",
       "      <td>2</td>\n",
       "    </tr>\n",
       "    <tr>\n",
       "      <th>3</th>\n",
       "      <td>0.000</td>\n",
       "      <td>2.037</td>\n",
       "      <td>119</td>\n",
       "      <td>3</td>\n",
       "    </tr>\n",
       "    <tr>\n",
       "      <th>4</th>\n",
       "      <td>0.000</td>\n",
       "      <td>1.911</td>\n",
       "      <td>329</td>\n",
       "      <td>4</td>\n",
       "    </tr>\n",
       "  </tbody>\n",
       "</table>\n",
       "</div>"
      ],
      "text/plain": [
       "   train_rmse_errors  test_rmse_errors  number of features  Degree\n",
       "1              2.302             3.103                   7       1\n",
       "2              0.377             1.071                  35       2\n",
       "3              0.000             2.037                 119       3\n",
       "4              0.000             1.911                 329       4"
      ]
     },
     "execution_count": 58,
     "metadata": {},
     "output_type": "execute_result"
    }
   ],
   "source": [
    "poly(5)"
   ]
  },
  {
   "cell_type": "markdown",
   "metadata": {},
   "source": [
    "**For polynomial regression, in order to find best polynomial rmse errors was calculated and second degree polynomial regression was found the best polynomial regression.** "
   ]
  },
  {
   "cell_type": "code",
   "execution_count": 59,
   "metadata": {},
   "outputs": [],
   "source": [
    "polynomial_converter = PolynomialFeatures(degree = 2, include_bias =False)\n",
    "poly_features = polynomial_converter.fit_transform(X)\n",
    "        \n",
    "X_train, X_test, y_train, y_test = train_test_split(poly_features, y, test_size=0.3, random_state=58)\n",
    "        \n",
    "scaler = StandardScaler()\n",
    "scaler.fit(X_train)\n",
    "X_train_scaled = scaler.transform(X_train) \n",
    "X_test_scaled = scaler.transform(X_test)\n",
    "        \n",
    "model = LinearRegression(fit_intercept=True)\n",
    "model.fit(X_train_scaled, y_train)\n",
    "        \n",
    "y_train_pred_poly = model.predict(X_train_scaled)\n",
    "y_test_pred_poly = model.predict(X_test_scaled)"
   ]
  },
  {
   "cell_type": "code",
   "execution_count": 60,
   "metadata": {
    "scrolled": false
   },
   "outputs": [
    {
     "data": {
      "text/html": [
       "<div>\n",
       "<style scoped>\n",
       "    .dataframe tbody tr th:only-of-type {\n",
       "        vertical-align: middle;\n",
       "    }\n",
       "\n",
       "    .dataframe tbody tr th {\n",
       "        vertical-align: top;\n",
       "    }\n",
       "\n",
       "    .dataframe thead th {\n",
       "        text-align: right;\n",
       "    }\n",
       "</style>\n",
       "<table border=\"1\" class=\"dataframe\">\n",
       "  <thead>\n",
       "    <tr style=\"text-align: right;\">\n",
       "      <th></th>\n",
       "      <th>poly_train</th>\n",
       "      <th>poly_test</th>\n",
       "    </tr>\n",
       "  </thead>\n",
       "  <tbody>\n",
       "    <tr>\n",
       "      <th>R2</th>\n",
       "      <td>0.998</td>\n",
       "      <td>0.982</td>\n",
       "    </tr>\n",
       "    <tr>\n",
       "      <th>mae</th>\n",
       "      <td>0.269</td>\n",
       "      <td>0.788</td>\n",
       "    </tr>\n",
       "    <tr>\n",
       "      <th>mse</th>\n",
       "      <td>0.142</td>\n",
       "      <td>1.146</td>\n",
       "    </tr>\n",
       "    <tr>\n",
       "      <th>rmse</th>\n",
       "      <td>0.377</td>\n",
       "      <td>1.071</td>\n",
       "    </tr>\n",
       "  </tbody>\n",
       "</table>\n",
       "</div>"
      ],
      "text/plain": [
       "      poly_train  poly_test\n",
       "R2         0.998      0.982\n",
       "mae        0.269      0.788\n",
       "mse        0.142      1.146\n",
       "rmse       0.377      1.071"
      ]
     },
     "execution_count": 60,
     "metadata": {},
     "output_type": "execute_result"
    }
   ],
   "source": [
    "poly = train_val(y_train, y_train_pred_poly, y_test, y_test_pred_poly, \"poly\")\n",
    "poly"
   ]
  },
  {
   "cell_type": "markdown",
   "metadata": {},
   "source": [
    "**Test scores of second degree polynomial regression is the best scores in all methods. In order to be sure the scores, cross validation method will be applied.**"
   ]
  },
  {
   "cell_type": "code",
   "execution_count": 61,
   "metadata": {},
   "outputs": [
    {
     "data": {
      "text/plain": [
       "test_r2                             0.981\n",
       "test_neg_mean_absolute_error       -0.666\n",
       "test_neg_mean_squared_error        -0.865\n",
       "test_neg_root_mean_squared_error   -0.909\n",
       "dtype: float64"
      ]
     },
     "execution_count": 61,
     "metadata": {},
     "output_type": "execute_result"
    }
   ],
   "source": [
    "scores = cross_validate(model, X_train_scaled, y_train, \n",
    "                       scoring = ['r2', 'neg_mean_absolute_error', 'neg_mean_squared_error', 'neg_root_mean_squared_error'],\n",
    "                       cv = 5)\n",
    "scores = pd.DataFrame(scores, index = range(1,6))\n",
    "scores.iloc[:, 2:].mean()"
   ]
  },
  {
   "cell_type": "markdown",
   "metadata": {},
   "source": [
    "**Cross validation scores shown that test scores are correct.** "
   ]
  },
  {
   "cell_type": "code",
   "execution_count": 62,
   "metadata": {},
   "outputs": [
    {
     "data": {
      "text/html": [
       "<div>\n",
       "<style scoped>\n",
       "    .dataframe tbody tr th:only-of-type {\n",
       "        vertical-align: middle;\n",
       "    }\n",
       "\n",
       "    .dataframe tbody tr th {\n",
       "        vertical-align: top;\n",
       "    }\n",
       "\n",
       "    .dataframe thead th {\n",
       "        text-align: right;\n",
       "    }\n",
       "</style>\n",
       "<table border=\"1\" class=\"dataframe\">\n",
       "  <thead>\n",
       "    <tr style=\"text-align: right;\">\n",
       "      <th></th>\n",
       "      <th>linear_train</th>\n",
       "      <th>linear_test</th>\n",
       "      <th>ridge_alpha_1_train</th>\n",
       "      <th>ridge_alpha_1_test</th>\n",
       "      <th>ridge_cv_train</th>\n",
       "      <th>ridge_cv_test</th>\n",
       "      <th>lasso_train</th>\n",
       "      <th>lasso_test</th>\n",
       "      <th>lasso_cv_train</th>\n",
       "      <th>lasso_cv_test</th>\n",
       "      <th>ENet_train</th>\n",
       "      <th>ENet_test</th>\n",
       "      <th>poly_train</th>\n",
       "      <th>poly_test</th>\n",
       "    </tr>\n",
       "  </thead>\n",
       "  <tbody>\n",
       "    <tr>\n",
       "      <th>R2</th>\n",
       "      <td>0.911</td>\n",
       "      <td>0.846</td>\n",
       "      <td>0.910</td>\n",
       "      <td>0.845</td>\n",
       "      <td>0.911</td>\n",
       "      <td>0.847</td>\n",
       "      <td>0.772</td>\n",
       "      <td>0.618</td>\n",
       "      <td>0.909</td>\n",
       "      <td>0.848</td>\n",
       "      <td>0.910</td>\n",
       "      <td>0.847</td>\n",
       "      <td>0.998</td>\n",
       "      <td>0.982</td>\n",
       "    </tr>\n",
       "    <tr>\n",
       "      <th>mae</th>\n",
       "      <td>1.782</td>\n",
       "      <td>2.120</td>\n",
       "      <td>1.829</td>\n",
       "      <td>2.059</td>\n",
       "      <td>1.813</td>\n",
       "      <td>2.066</td>\n",
       "      <td>2.837</td>\n",
       "      <td>3.844</td>\n",
       "      <td>1.842</td>\n",
       "      <td>2.057</td>\n",
       "      <td>1.817</td>\n",
       "      <td>2.066</td>\n",
       "      <td>0.269</td>\n",
       "      <td>0.788</td>\n",
       "    </tr>\n",
       "    <tr>\n",
       "      <th>mse</th>\n",
       "      <td>5.298</td>\n",
       "      <td>9.628</td>\n",
       "      <td>5.369</td>\n",
       "      <td>9.668</td>\n",
       "      <td>5.338</td>\n",
       "      <td>9.592</td>\n",
       "      <td>13.638</td>\n",
       "      <td>23.888</td>\n",
       "      <td>5.446</td>\n",
       "      <td>9.524</td>\n",
       "      <td>5.372</td>\n",
       "      <td>9.548</td>\n",
       "      <td>0.142</td>\n",
       "      <td>1.146</td>\n",
       "    </tr>\n",
       "    <tr>\n",
       "      <th>rmse</th>\n",
       "      <td>2.302</td>\n",
       "      <td>3.103</td>\n",
       "      <td>2.317</td>\n",
       "      <td>3.109</td>\n",
       "      <td>2.310</td>\n",
       "      <td>3.097</td>\n",
       "      <td>3.693</td>\n",
       "      <td>4.888</td>\n",
       "      <td>2.334</td>\n",
       "      <td>3.086</td>\n",
       "      <td>2.318</td>\n",
       "      <td>3.090</td>\n",
       "      <td>0.377</td>\n",
       "      <td>1.071</td>\n",
       "    </tr>\n",
       "  </tbody>\n",
       "</table>\n",
       "</div>"
      ],
      "text/plain": [
       "      linear_train  linear_test  ridge_alpha_1_train  ridge_alpha_1_test  \\\n",
       "R2           0.911        0.846                0.910               0.845   \n",
       "mae          1.782        2.120                1.829               2.059   \n",
       "mse          5.298        9.628                5.369               9.668   \n",
       "rmse         2.302        3.103                2.317               3.109   \n",
       "\n",
       "      ridge_cv_train  ridge_cv_test  lasso_train  lasso_test  lasso_cv_train  \\\n",
       "R2             0.911          0.847        0.772       0.618           0.909   \n",
       "mae            1.813          2.066        2.837       3.844           1.842   \n",
       "mse            5.338          9.592       13.638      23.888           5.446   \n",
       "rmse           2.310          3.097        3.693       4.888           2.334   \n",
       "\n",
       "      lasso_cv_test  ENet_train  ENet_test  poly_train  poly_test  \n",
       "R2            0.848       0.910      0.847       0.998      0.982  \n",
       "mae           2.057       1.817      2.066       0.269      0.788  \n",
       "mse           9.524       5.372      9.548       0.142      1.146  \n",
       "rmse          3.086       2.318      3.090       0.377      1.071  "
      ]
     },
     "execution_count": 62,
     "metadata": {},
     "output_type": "execute_result"
    }
   ],
   "source": [
    "pd.concat([ls,rs, rcs, lss, lcs,enet,poly], axis = 1)"
   ]
  },
  {
   "cell_type": "markdown",
   "metadata": {},
   "source": [
    "### It was concluded that the second degree polynomial method is the best method among all methods."
   ]
  },
  {
   "cell_type": "markdown",
   "metadata": {},
   "source": [
    "# Function of All Methods"
   ]
  },
  {
   "cell_type": "code",
   "execution_count": 66,
   "metadata": {},
   "outputs": [],
   "source": [
    "def train_val(y_train, y_train_pred, y_test, y_pred, name):\n",
    "    \n",
    "    scores = {name+\"_train\": {\"R2\" : r2_score(y_train, y_train_pred),\n",
    "    \"mae\" : mean_absolute_error(y_train, y_train_pred),\n",
    "    \"mse\" : mean_squared_error(y_train, y_train_pred),                          \n",
    "    \"rmse\" : np.sqrt(mean_squared_error(y_train, y_train_pred))},\n",
    "    \n",
    "    name+\"_test\": {\"R2\" : r2_score(y_test, y_pred),\n",
    "    \"mae\" : mean_absolute_error(y_test, y_pred),\n",
    "    \"mse\" : mean_squared_error(y_test, y_pred),\n",
    "    \"rmse\" : np.sqrt(mean_squared_error(y_test, y_pred))}}\n",
    "    \n",
    "    return pd.DataFrame(scores)"
   ]
  },
  {
   "cell_type": "code",
   "execution_count": 67,
   "metadata": {},
   "outputs": [],
   "source": [
    "def poly_best(X,y,d):\n",
    "    \n",
    "    test_rmse_errors = []\n",
    "    \n",
    "    for i in range(1, d):\n",
    "        polynomial_converter = PolynomialFeatures(degree = i, include_bias =False)\n",
    "        poly_features = polynomial_converter.fit_transform(X)\n",
    "        \n",
    "        X_train, X_test, y_train, y_test = train_test_split(poly_features, y, test_size=0.3, random_state=58)\n",
    "        \n",
    "        scaler = StandardScaler()\n",
    "        scaler.fit(X_train)\n",
    "        X_train_scaled = scaler.transform(X_train) \n",
    "        X_test_scaled = scaler.transform(X_test)\n",
    "        \n",
    "        model = LinearRegression(fit_intercept=True)\n",
    "        model.fit(X_train_scaled, y_train)\n",
    "        \n",
    "        train_pred = model.predict(X_train_scaled)\n",
    "        test_pred = model.predict(X_test_scaled)\n",
    "        \n",
    "        test_RMSE = np.sqrt(mean_squared_error(y_test,test_pred))\n",
    "\n",
    "        test_rmse_errors.append(test_RMSE)\n",
    "    \n",
    "    min_rmse = min(test_rmse_errors)\n",
    "    \n",
    "    return test_rmse_errors.index(min_rmse)+1"
   ]
  },
  {
   "cell_type": "code",
   "execution_count": 63,
   "metadata": {},
   "outputs": [],
   "source": [
    "def methods(X,y,test_s):\n",
    "    X_train, X_test, y_train, y_test = train_test_split(X,y,test_size = test_s, random_state = 58)\n",
    "    \n",
    "    #scaling\n",
    "    scaler = StandardScaler()\n",
    "    scaler.fit(X_train)\n",
    "    X_train_scaled = scaler.transform(X_train) \n",
    "    X_test_scaled = scaler.transform(X_test)\n",
    "    \n",
    "    #linear regression\n",
    "    lr = LinearRegression()\n",
    "    lr.fit(X_train_scaled,y_train)\n",
    "    y_pred_lr = lr.predict(X_test_scaled)\n",
    "    y_train_pred_lr = lr.predict(X_train_scaled)\n",
    "    ls = train_val(y_train, y_train_pred_lr, y_test, y_pred_lr, \"linear\")\n",
    "    \n",
    "    #Ridge CV\n",
    "    alpha_space = np.linspace(0.01, 1, 100)\n",
    "    ridge_cv_model = RidgeCV(alphas = alpha_space, cv = 5, scoring = \"neg_root_mean_squared_error\")\n",
    "    ridge_cv_model.fit(X_train_scaled, y_train)\n",
    "    y_pred_rcv = ridge_cv_model.predict(X_test_scaled)\n",
    "    y_train_pred_rcv = ridge_cv_model.predict(X_train_scaled)\n",
    "    rcs = train_val(y_train, y_train_pred_rcv, y_test, y_pred_rcv, \"ridge_cv\")\n",
    "    \n",
    "    #Lasso CV\n",
    "    lasso_cv_model = LassoCV(alphas = alpha_space, cv = 5, max_iter=100000, random_state=58) \n",
    "    lasso_cv_model.fit(X_train_scaled, y_train)\n",
    "    y_pred_lcv = lasso_cv_model.predict(X_test_scaled)  \n",
    "    y_train_pred_lcv = lasso_cv_model.predict(X_train_scaled)\n",
    "    lcs = train_val(y_train, y_train_pred_lcv, y_test, y_pred_lcv, \"lasso_cv\")\n",
    "    \n",
    "    #Elastic Net with Grid\n",
    "    parametersGrid = {\"max_iter\": [1, 5, 10],\n",
    "                      \"alpha\": [0.0001, 0.001, 0.01, 0.1, 1, 10, 100],\n",
    "                      \"l1_ratio\": np.arange(0.0, 1.0, 0.1)}\n",
    "    enet = ElasticNet()\n",
    "    grid = GridSearchCV(enet, parametersGrid, scoring='r2', cv=5)\n",
    "    grid.fit(X_train_scaled, y_train)\n",
    "    y_pred_test_enet = grid.predict(X_test_scaled)\n",
    "    y_pred_train_enet = grid.predict(X_train_scaled)\n",
    "    enet = train_val(y_train, y_pred_train_enet, y_test, y_pred_test_enet, \"ENet\")\n",
    "\n",
    "    #poly regression\n",
    "    i = poly_best(X,y,5)\n",
    "    polynomial_converter = PolynomialFeatures(degree = i, include_bias =False)\n",
    "    poly_features = polynomial_converter.fit_transform(X)\n",
    "        \n",
    "    X_train, X_test, y_train, y_test = train_test_split(poly_features, y, test_size=0.3, random_state=58)\n",
    "        \n",
    "    scaler = StandardScaler()\n",
    "    scaler.fit(X_train)\n",
    "    X_train_scaled = scaler.transform(X_train) \n",
    "    X_test_scaled = scaler.transform(X_test)\n",
    "        \n",
    "    poly = LinearRegression(fit_intercept=True)\n",
    "    poly.fit(X_train_scaled, y_train)\n",
    "        \n",
    "    y_train_pred_poly = poly.predict(X_train_scaled)\n",
    "    y_test_pred_poly = poly.predict(X_test_scaled)\n",
    "    \n",
    "    poly = train_val(y_train, y_train_pred_poly, y_test, y_test_pred_poly, \"poly\")\n",
    "    \n",
    "    return pd.concat([ls,rcs, lcs,enet, poly], axis = 1)\n",
    "    "
   ]
  },
  {
   "cell_type": "markdown",
   "metadata": {},
   "source": [
    "### Methods with test size 0.25"
   ]
  },
  {
   "cell_type": "code",
   "execution_count": 68,
   "metadata": {},
   "outputs": [],
   "source": [
    "X = df.loc[:,['cement', 'slag', 'fly_ash', 'water', 'sp', 'coarse_aggr.','fine_aggr.']]\n",
    "y = df['CS']"
   ]
  },
  {
   "cell_type": "code",
   "execution_count": 69,
   "metadata": {},
   "outputs": [
    {
     "data": {
      "text/html": [
       "<div>\n",
       "<style scoped>\n",
       "    .dataframe tbody tr th:only-of-type {\n",
       "        vertical-align: middle;\n",
       "    }\n",
       "\n",
       "    .dataframe tbody tr th {\n",
       "        vertical-align: top;\n",
       "    }\n",
       "\n",
       "    .dataframe thead th {\n",
       "        text-align: right;\n",
       "    }\n",
       "</style>\n",
       "<table border=\"1\" class=\"dataframe\">\n",
       "  <thead>\n",
       "    <tr style=\"text-align: right;\">\n",
       "      <th></th>\n",
       "      <th>linear_train</th>\n",
       "      <th>linear_test</th>\n",
       "      <th>ridge_cv_train</th>\n",
       "      <th>ridge_cv_test</th>\n",
       "      <th>lasso_cv_train</th>\n",
       "      <th>lasso_cv_test</th>\n",
       "      <th>ENet_train</th>\n",
       "      <th>ENet_test</th>\n",
       "      <th>poly_train</th>\n",
       "      <th>poly_test</th>\n",
       "    </tr>\n",
       "  </thead>\n",
       "  <tbody>\n",
       "    <tr>\n",
       "      <th>R2</th>\n",
       "      <td>0.905</td>\n",
       "      <td>0.864</td>\n",
       "      <td>0.904</td>\n",
       "      <td>0.866</td>\n",
       "      <td>0.902</td>\n",
       "      <td>0.869</td>\n",
       "      <td>0.903</td>\n",
       "      <td>0.867</td>\n",
       "      <td>0.998</td>\n",
       "      <td>0.982</td>\n",
       "    </tr>\n",
       "    <tr>\n",
       "      <th>mae</th>\n",
       "      <td>1.761</td>\n",
       "      <td>2.186</td>\n",
       "      <td>1.784</td>\n",
       "      <td>2.126</td>\n",
       "      <td>1.821</td>\n",
       "      <td>2.082</td>\n",
       "      <td>1.790</td>\n",
       "      <td>2.124</td>\n",
       "      <td>0.269</td>\n",
       "      <td>0.788</td>\n",
       "    </tr>\n",
       "    <tr>\n",
       "      <th>mse</th>\n",
       "      <td>5.493</td>\n",
       "      <td>9.488</td>\n",
       "      <td>5.543</td>\n",
       "      <td>9.306</td>\n",
       "      <td>5.668</td>\n",
       "      <td>9.147</td>\n",
       "      <td>5.583</td>\n",
       "      <td>9.259</td>\n",
       "      <td>0.142</td>\n",
       "      <td>1.146</td>\n",
       "    </tr>\n",
       "    <tr>\n",
       "      <th>rmse</th>\n",
       "      <td>2.344</td>\n",
       "      <td>3.080</td>\n",
       "      <td>2.354</td>\n",
       "      <td>3.051</td>\n",
       "      <td>2.381</td>\n",
       "      <td>3.024</td>\n",
       "      <td>2.363</td>\n",
       "      <td>3.043</td>\n",
       "      <td>0.377</td>\n",
       "      <td>1.071</td>\n",
       "    </tr>\n",
       "  </tbody>\n",
       "</table>\n",
       "</div>"
      ],
      "text/plain": [
       "      linear_train  linear_test  ridge_cv_train  ridge_cv_test  \\\n",
       "R2           0.905        0.864           0.904          0.866   \n",
       "mae          1.761        2.186           1.784          2.126   \n",
       "mse          5.493        9.488           5.543          9.306   \n",
       "rmse         2.344        3.080           2.354          3.051   \n",
       "\n",
       "      lasso_cv_train  lasso_cv_test  ENet_train  ENet_test  poly_train  \\\n",
       "R2             0.902          0.869       0.903      0.867       0.998   \n",
       "mae            1.821          2.082       1.790      2.124       0.269   \n",
       "mse            5.668          9.147       5.583      9.259       0.142   \n",
       "rmse           2.381          3.024       2.363      3.043       0.377   \n",
       "\n",
       "      poly_test  \n",
       "R2        0.982  \n",
       "mae       0.788  \n",
       "mse       1.146  \n",
       "rmse      1.071  "
      ]
     },
     "execution_count": 69,
     "metadata": {},
     "output_type": "execute_result"
    }
   ],
   "source": [
    "methods(X,y,0.25)"
   ]
  },
  {
   "cell_type": "markdown",
   "metadata": {},
   "source": [
    "**When the test size was assigned as 0.25, although polynomial regression scores did not change, other methods scores increased.**"
   ]
  },
  {
   "cell_type": "markdown",
   "metadata": {},
   "source": [
    "### Exclude sp which has a low correlation with CS"
   ]
  },
  {
   "cell_type": "code",
   "execution_count": 70,
   "metadata": {},
   "outputs": [],
   "source": [
    "X = df.loc[:,['cement', 'slag', 'fly_ash', 'water', 'coarse_aggr.','fine_aggr.']]\n",
    "y = df['CS']"
   ]
  },
  {
   "cell_type": "code",
   "execution_count": 71,
   "metadata": {},
   "outputs": [
    {
     "data": {
      "text/html": [
       "<div>\n",
       "<style scoped>\n",
       "    .dataframe tbody tr th:only-of-type {\n",
       "        vertical-align: middle;\n",
       "    }\n",
       "\n",
       "    .dataframe tbody tr th {\n",
       "        vertical-align: top;\n",
       "    }\n",
       "\n",
       "    .dataframe thead th {\n",
       "        text-align: right;\n",
       "    }\n",
       "</style>\n",
       "<table border=\"1\" class=\"dataframe\">\n",
       "  <thead>\n",
       "    <tr style=\"text-align: right;\">\n",
       "      <th></th>\n",
       "      <th>linear_train</th>\n",
       "      <th>linear_test</th>\n",
       "      <th>ridge_cv_train</th>\n",
       "      <th>ridge_cv_test</th>\n",
       "      <th>lasso_cv_train</th>\n",
       "      <th>lasso_cv_test</th>\n",
       "      <th>ENet_train</th>\n",
       "      <th>ENet_test</th>\n",
       "      <th>poly_train</th>\n",
       "      <th>poly_test</th>\n",
       "    </tr>\n",
       "  </thead>\n",
       "  <tbody>\n",
       "    <tr>\n",
       "      <th>R2</th>\n",
       "      <td>0.904</td>\n",
       "      <td>0.862</td>\n",
       "      <td>0.903</td>\n",
       "      <td>0.865</td>\n",
       "      <td>0.903</td>\n",
       "      <td>0.865</td>\n",
       "      <td>0.900</td>\n",
       "      <td>0.867</td>\n",
       "      <td>0.996</td>\n",
       "      <td>0.986</td>\n",
       "    </tr>\n",
       "    <tr>\n",
       "      <th>mae</th>\n",
       "      <td>1.761</td>\n",
       "      <td>2.223</td>\n",
       "      <td>1.781</td>\n",
       "      <td>2.183</td>\n",
       "      <td>1.781</td>\n",
       "      <td>2.184</td>\n",
       "      <td>1.825</td>\n",
       "      <td>2.153</td>\n",
       "      <td>0.345</td>\n",
       "      <td>0.723</td>\n",
       "    </tr>\n",
       "    <tr>\n",
       "      <th>mse</th>\n",
       "      <td>5.512</td>\n",
       "      <td>9.592</td>\n",
       "      <td>5.570</td>\n",
       "      <td>9.383</td>\n",
       "      <td>5.571</td>\n",
       "      <td>9.380</td>\n",
       "      <td>5.751</td>\n",
       "      <td>9.286</td>\n",
       "      <td>0.224</td>\n",
       "      <td>0.861</td>\n",
       "    </tr>\n",
       "    <tr>\n",
       "      <th>rmse</th>\n",
       "      <td>2.348</td>\n",
       "      <td>3.097</td>\n",
       "      <td>2.360</td>\n",
       "      <td>3.063</td>\n",
       "      <td>2.360</td>\n",
       "      <td>3.063</td>\n",
       "      <td>2.398</td>\n",
       "      <td>3.047</td>\n",
       "      <td>0.473</td>\n",
       "      <td>0.928</td>\n",
       "    </tr>\n",
       "  </tbody>\n",
       "</table>\n",
       "</div>"
      ],
      "text/plain": [
       "      linear_train  linear_test  ridge_cv_train  ridge_cv_test  \\\n",
       "R2           0.904        0.862           0.903          0.865   \n",
       "mae          1.761        2.223           1.781          2.183   \n",
       "mse          5.512        9.592           5.570          9.383   \n",
       "rmse         2.348        3.097           2.360          3.063   \n",
       "\n",
       "      lasso_cv_train  lasso_cv_test  ENet_train  ENet_test  poly_train  \\\n",
       "R2             0.903          0.865       0.900      0.867       0.996   \n",
       "mae            1.781          2.184       1.825      2.153       0.345   \n",
       "mse            5.571          9.380       5.751      9.286       0.224   \n",
       "rmse           2.360          3.063       2.398      3.047       0.473   \n",
       "\n",
       "      poly_test  \n",
       "R2        0.986  \n",
       "mae       0.723  \n",
       "mse       0.861  \n",
       "rmse      0.928  "
      ]
     },
     "execution_count": 71,
     "metadata": {},
     "output_type": "execute_result"
    }
   ],
   "source": [
    "methods(X,y,0.25)"
   ]
  },
  {
   "cell_type": "markdown",
   "metadata": {},
   "source": [
    "**When sp was excluded, test scores almost did not change.**"
   ]
  },
  {
   "cell_type": "markdown",
   "metadata": {},
   "source": [
    "### Include 'sp/c' to the train set"
   ]
  },
  {
   "cell_type": "code",
   "execution_count": 72,
   "metadata": {},
   "outputs": [],
   "source": [
    "X = df.loc[:,['cement', 'slag', 'fly_ash', 'water', 'coarse_aggr.','fine_aggr.', 'sp/c']]\n",
    "y = df['CS']"
   ]
  },
  {
   "cell_type": "code",
   "execution_count": 73,
   "metadata": {},
   "outputs": [
    {
     "data": {
      "text/html": [
       "<div>\n",
       "<style scoped>\n",
       "    .dataframe tbody tr th:only-of-type {\n",
       "        vertical-align: middle;\n",
       "    }\n",
       "\n",
       "    .dataframe tbody tr th {\n",
       "        vertical-align: top;\n",
       "    }\n",
       "\n",
       "    .dataframe thead th {\n",
       "        text-align: right;\n",
       "    }\n",
       "</style>\n",
       "<table border=\"1\" class=\"dataframe\">\n",
       "  <thead>\n",
       "    <tr style=\"text-align: right;\">\n",
       "      <th></th>\n",
       "      <th>linear_train</th>\n",
       "      <th>linear_test</th>\n",
       "      <th>ridge_cv_train</th>\n",
       "      <th>ridge_cv_test</th>\n",
       "      <th>lasso_cv_train</th>\n",
       "      <th>lasso_cv_test</th>\n",
       "      <th>ENet_train</th>\n",
       "      <th>ENet_test</th>\n",
       "      <th>poly_train</th>\n",
       "      <th>poly_test</th>\n",
       "    </tr>\n",
       "  </thead>\n",
       "  <tbody>\n",
       "    <tr>\n",
       "      <th>R2</th>\n",
       "      <td>0.905</td>\n",
       "      <td>0.867</td>\n",
       "      <td>0.904</td>\n",
       "      <td>0.871</td>\n",
       "      <td>0.903</td>\n",
       "      <td>0.875</td>\n",
       "      <td>0.904</td>\n",
       "      <td>0.873</td>\n",
       "      <td>0.998</td>\n",
       "      <td>0.983</td>\n",
       "    </tr>\n",
       "    <tr>\n",
       "      <th>mae</th>\n",
       "      <td>1.759</td>\n",
       "      <td>2.154</td>\n",
       "      <td>1.780</td>\n",
       "      <td>2.092</td>\n",
       "      <td>1.808</td>\n",
       "      <td>2.037</td>\n",
       "      <td>1.786</td>\n",
       "      <td>2.070</td>\n",
       "      <td>0.262</td>\n",
       "      <td>0.792</td>\n",
       "    </tr>\n",
       "    <tr>\n",
       "      <th>mse</th>\n",
       "      <td>5.484</td>\n",
       "      <td>9.238</td>\n",
       "      <td>5.520</td>\n",
       "      <td>8.997</td>\n",
       "      <td>5.614</td>\n",
       "      <td>8.670</td>\n",
       "      <td>5.544</td>\n",
       "      <td>8.828</td>\n",
       "      <td>0.146</td>\n",
       "      <td>1.043</td>\n",
       "    </tr>\n",
       "    <tr>\n",
       "      <th>rmse</th>\n",
       "      <td>2.342</td>\n",
       "      <td>3.039</td>\n",
       "      <td>2.349</td>\n",
       "      <td>3.000</td>\n",
       "      <td>2.369</td>\n",
       "      <td>2.945</td>\n",
       "      <td>2.355</td>\n",
       "      <td>2.971</td>\n",
       "      <td>0.383</td>\n",
       "      <td>1.021</td>\n",
       "    </tr>\n",
       "  </tbody>\n",
       "</table>\n",
       "</div>"
      ],
      "text/plain": [
       "      linear_train  linear_test  ridge_cv_train  ridge_cv_test  \\\n",
       "R2           0.905        0.867           0.904          0.871   \n",
       "mae          1.759        2.154           1.780          2.092   \n",
       "mse          5.484        9.238           5.520          8.997   \n",
       "rmse         2.342        3.039           2.349          3.000   \n",
       "\n",
       "      lasso_cv_train  lasso_cv_test  ENet_train  ENet_test  poly_train  \\\n",
       "R2             0.903          0.875       0.904      0.873       0.998   \n",
       "mae            1.808          2.037       1.786      2.070       0.262   \n",
       "mse            5.614          8.670       5.544      8.828       0.146   \n",
       "rmse           2.369          2.945       2.355      2.971       0.383   \n",
       "\n",
       "      poly_test  \n",
       "R2        0.983  \n",
       "mae       0.792  \n",
       "mse       1.043  \n",
       "rmse      1.021  "
      ]
     },
     "execution_count": 73,
     "metadata": {},
     "output_type": "execute_result"
    }
   ],
   "source": [
    "methods(X,y,0.25)"
   ]
  },
  {
   "cell_type": "markdown",
   "metadata": {},
   "source": [
    "**sp/c has no much effect on CS. Test scores did not change.**"
   ]
  },
  {
   "cell_type": "markdown",
   "metadata": {},
   "source": [
    "### It was concluded that the second degree polynomial method is the best method among all methods. The features 'cement', 'slag', 'fly_ash', 'water', 'coarse_aggr.','fine_aggr.' are important for 28-day Compressive Strength. If we exclude one of these, test scores decrease. "
   ]
  },
  {
   "cell_type": "code",
   "execution_count": null,
   "metadata": {},
   "outputs": [],
   "source": []
  }
 ],
 "metadata": {
  "colab": {
   "collapsed_sections": [],
   "name": "cement_slump_notebook.assignment1.ipynb",
   "provenance": []
  },
  "kernelspec": {
   "display_name": "Python 3",
   "language": "python",
   "name": "python3"
  },
  "language_info": {
   "codemirror_mode": {
    "name": "ipython",
    "version": 3
   },
   "file_extension": ".py",
   "mimetype": "text/x-python",
   "name": "python",
   "nbconvert_exporter": "python",
   "pygments_lexer": "ipython3",
   "version": "3.8.5"
  }
 },
 "nbformat": 4,
 "nbformat_minor": 1
}
