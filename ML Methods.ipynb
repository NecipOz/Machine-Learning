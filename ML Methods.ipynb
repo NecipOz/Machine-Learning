{
 "cells": [
  {
   "cell_type": "markdown",
   "metadata": {},
   "source": [
    "### Import methods"
   ]
  },
  {
   "cell_type": "code",
   "execution_count": null,
   "metadata": {},
   "outputs": [],
   "source": [
    "from sklearn.model_selection import train_test_split\n",
    "from sklearn.linear_model import LinearRegression\n",
    "from sklearn.preprocessing import StandardScaler, MinMaxScaler, RobustScaler\n",
    "from sklearn.metrics import mean_absolute_error, mean_squared_error, r2_score\n",
    "from sklearn.model_selection import cross_validate\n",
    "from sklearn.linear_model import Ridge\n",
    "from sklearn.linear_model import RidgeCV\n",
    "from sklearn.linear_model import Lasso\n",
    "from sklearn.linear_model import LassoCV\n",
    "from sklearn.preprocessing import PolynomialFeatures\n",
    "from sklearn.linear_model import ElasticNet\n",
    "from sklearn.model_selection import GridSearchCV"
   ]
  },
  {
   "cell_type": "markdown",
   "metadata": {},
   "source": [
    "### Method that returns scores as a dataframe"
   ]
  },
  {
   "cell_type": "code",
   "execution_count": null,
   "metadata": {},
   "outputs": [],
   "source": [
    "def train_val(y_train, y_train_pred, y_test, y_pred, name):\n",
    "    \n",
    "    scores = {name+\"_train\": {\"R2\" : r2_score(y_train, y_train_pred),\n",
    "    \"mae\" : mean_absolute_error(y_train, y_train_pred),\n",
    "    \"mse\" : mean_squared_error(y_train, y_train_pred),                          \n",
    "    \"rmse\" : np.sqrt(mean_squared_error(y_train, y_train_pred))},\n",
    "    \n",
    "    name+\"_test\": {\"R2\" : r2_score(y_test, y_pred),\n",
    "    \"mae\" : mean_absolute_error(y_test, y_pred),\n",
    "    \"mse\" : mean_squared_error(y_test, y_pred),\n",
    "    \"rmse\" : np.sqrt(mean_squared_error(y_test, y_pred))}}\n",
    "    \n",
    "    return pd.DataFrame(scores)"
   ]
  },
  {
   "cell_type": "markdown",
   "metadata": {},
   "source": [
    "### Method that returns the degree of best polynomial up to 5 "
   ]
  },
  {
   "cell_type": "code",
   "execution_count": null,
   "metadata": {},
   "outputs": [],
   "source": [
    "def poly(d):\n",
    "    \n",
    "    test_rmse_errors = []\n",
    "    \n",
    "    for i in range(1, d):\n",
    "        polynomial_converter = PolynomialFeatures(degree = i, include_bias =False)\n",
    "        poly_features = polynomial_converter.fit_transform(X)\n",
    "        \n",
    "        X_train, X_test, y_train, y_test = train_test_split(poly_features, y, test_size=0.3, random_state=58)\n",
    "        \n",
    "        scaler = StandardScaler()\n",
    "        scaler.fit(X_train)\n",
    "        X_train_scaled = scaler.transform(X_train) \n",
    "        X_test_scaled = scaler.transform(X_test)\n",
    "        \n",
    "        model = LinearRegression(fit_intercept=True)\n",
    "        model.fit(X_train_scaled, y_train)\n",
    "        \n",
    "        train_pred = model.predict(X_train_scaled)\n",
    "        test_pred = model.predict(X_test_scaled)\n",
    "        \n",
    "        test_RMSE = np.sqrt(mean_squared_error(y_test,test_pred))\n",
    "\n",
    "        test_rmse_errors.append(test_RMSE)\n",
    "    \n",
    "    min_rmse = min(test_rmse_errors)\n",
    "    \n",
    "    return test_rmse_errors.index(min_rmse)"
   ]
  },
  {
   "cell_type": "markdown",
   "metadata": {},
   "source": [
    "### Methods linear regression, RidgeCV, LassoCV, Elastic Net (gridsearch), polynomial regression"
   ]
  },
  {
   "cell_type": "code",
   "execution_count": null,
   "metadata": {},
   "outputs": [],
   "source": [
    "def methods_with_poly(X,y,test_s):\n",
    "    X_train, X_test, y_train, y_test = train_test_split(X,y,test_size = test_s, random_state = 58)\n",
    "    \n",
    "    #scaling\n",
    "    scaler = StandardScaler()\n",
    "    scaler.fit(X_train)\n",
    "    X_train_scaled = scaler.transform(X_train) \n",
    "    X_test_scaled = scaler.transform(X_test)\n",
    "    \n",
    "    #linear regression\n",
    "    lr = LinearRegression()\n",
    "    lr.fit(X_train_scaled,y_train)\n",
    "    y_pred_lr = lr.predict(X_test_scaled)\n",
    "    y_train_pred_lr = lr.predict(X_train_scaled)\n",
    "    ls = train_val(y_train, y_train_pred_lr, y_test, y_pred_lr, \"linear\")\n",
    "    \n",
    "    #Ridge CV\n",
    "    alpha_space = np.linspace(0.01, 1, 100)\n",
    "    ridge_cv_model = RidgeCV(alphas = alpha_space, cv = 5, scoring = \"neg_root_mean_squared_error\")\n",
    "    ridge_cv_model.fit(X_train_scaled, y_train)\n",
    "    y_pred_rcv = ridge_cv_model.predict(X_test_scaled)\n",
    "    y_train_pred_rcv = ridge_cv_model.predict(X_train_scaled)\n",
    "    rcs = train_val(y_train, y_train_pred_rcv, y_test, y_pred_rcv, \"ridge_cv\")\n",
    "    \n",
    "    #Lasso CV\n",
    "    lasso_cv_model = LassoCV(alphas = alpha_space, cv = 5, max_iter=100000, random_state=58) \n",
    "    lasso_cv_model.fit(X_train_scaled, y_train)\n",
    "    y_pred_lcv = lasso_cv_model.predict(X_test_scaled)  \n",
    "    y_train_pred_lcv = lasso_cv_model.predict(X_train_scaled)\n",
    "    lcs = train_val(y_train, y_train_pred_lcv, y_test, y_pred_lcv, \"lasso_cv\")\n",
    "    \n",
    "    #Elastic Net with Grid\n",
    "    parametersGrid = {\"max_iter\": [1, 5, 10],\n",
    "                      \"alpha\": [0.0001, 0.001, 0.01, 0.1, 1, 10, 100],\n",
    "                      \"l1_ratio\": np.arange(0.0, 1.0, 0.1)}\n",
    "    enet = ElasticNet()\n",
    "    grid = GridSearchCV(enet, parametersGrid, scoring='r2', cv=5)\n",
    "    grid.fit(X_train_scaled, y_train)\n",
    "    y_pred_test_enet = grid.predict(X_test_scaled)\n",
    "    y_pred_train_enet = grid.predict(X_train_scaled)\n",
    "    enet = train_val(y_train, y_pred_train_enet, y_test, y_pred_test_enet, \"ENet\")\n",
    "    \n",
    "    #poly regression\n",
    "    i = poly(5)\n",
    "    polynomial_converter = PolynomialFeatures(degree = i, include_bias =False)\n",
    "    poly_features = polynomial_converter.fit_transform(X)\n",
    "        \n",
    "    X_train, X_test, y_train, y_test = train_test_split(poly_features, y, test_size=0.3, random_state=58)\n",
    "        \n",
    "    scaler = StandardScaler()\n",
    "    scaler.fit(X_train)\n",
    "    X_train_scaled = scaler.transform(X_train) \n",
    "    X_test_scaled = scaler.transform(X_test)\n",
    "        \n",
    "    poly = LinearRegression(fit_intercept=True)\n",
    "    poly.fit(X_train_scaled, y_train)\n",
    "        \n",
    "    y_train_pred_poly = poly.predict(X_train_scaled)\n",
    "    y_test_pred_poly = poly.predict(X_test_scaled)\n",
    "    \n",
    "    poly = train_val(y_train, y_train_pred_poly, y_test, y_test_pred_poly, \"poly\")\n",
    "    \n",
    "    print(pd.concat([ls,rcs, lcs,poly, enet], axis = 1))\n",
    "    "
   ]
  },
  {
   "cell_type": "markdown",
   "metadata": {},
   "source": [
    "### Methods linear regression, RidgeCV, LassoCV, Elastic Net (gridsearch)"
   ]
  },
  {
   "cell_type": "code",
   "execution_count": null,
   "metadata": {},
   "outputs": [],
   "source": [
    "def methods(X,y,test_s):\n",
    "    X_train, X_test, y_train, y_test = train_test_split(X,y,test_size = test_s, random_state = 58)\n",
    "    \n",
    "    #scaling\n",
    "    scaler = StandardScaler()\n",
    "    scaler.fit(X_train)\n",
    "    X_train_scaled = scaler.transform(X_train) \n",
    "    X_test_scaled = scaler.transform(X_test)\n",
    "    \n",
    "    #linear regression\n",
    "    lr = LinearRegression()\n",
    "    lr.fit(X_train_scaled,y_train)\n",
    "    y_pred_lr = lr.predict(X_test_scaled)\n",
    "    y_train_pred_lr = lr.predict(X_train_scaled)\n",
    "    ls = train_val(y_train, y_train_pred_lr, y_test, y_pred_lr, \"linear\")\n",
    "    \n",
    "    #Ridge CV\n",
    "    alpha_space = np.linspace(0.01, 1, 100)\n",
    "    ridge_cv_model = RidgeCV(alphas = alpha_space, cv = 5, scoring = \"neg_root_mean_squared_error\")\n",
    "    ridge_cv_model.fit(X_train_scaled, y_train)\n",
    "    y_pred_rcv = ridge_cv_model.predict(X_test_scaled)\n",
    "    y_train_pred_rcv = ridge_cv_model.predict(X_train_scaled)\n",
    "    rcs = train_val(y_train, y_train_pred_rcv, y_test, y_pred_rcv, \"ridge_cv\")\n",
    "    \n",
    "    #Lasso CV\n",
    "    lasso_cv_model = LassoCV(alphas = alpha_space, cv = 5, max_iter=100000, random_state=58) \n",
    "    lasso_cv_model.fit(X_train_scaled, y_train)\n",
    "    y_pred_lcv = lasso_cv_model.predict(X_test_scaled)  \n",
    "    y_train_pred_lcv = lasso_cv_model.predict(X_train_scaled)\n",
    "    lcs = train_val(y_train, y_train_pred_lcv, y_test, y_pred_lcv, \"lasso_cv\")\n",
    "    \n",
    "    #Elastic Net with Grid\n",
    "    parametersGrid = {\"max_iter\": [1, 5, 10],\n",
    "                      \"alpha\": [0.0001, 0.001, 0.01, 0.1, 1, 10, 100],\n",
    "                      \"l1_ratio\": np.arange(0.0, 1.0, 0.1)}\n",
    "    enet = ElasticNet()\n",
    "    grid = GridSearchCV(enet, parametersGrid, scoring='r2', cv=5)\n",
    "    grid.fit(X_train_scaled, y_train)\n",
    "    y_pred_test_enet = grid.predict(X_test_scaled)\n",
    "    y_pred_train_enet = grid.predict(X_train_scaled)\n",
    "    enet = train_val(y_train, y_pred_train_enet, y_test, y_pred_test_enet, \"ENet\")\n",
    "    \n",
    "    print(pd.concat([ls,rcs, lcs,poly, enet], axis = 1))\n",
    "    "
   ]
  }
 ],
 "metadata": {
  "kernelspec": {
   "display_name": "Python 3",
   "language": "python",
   "name": "python3"
  },
  "language_info": {
   "codemirror_mode": {
    "name": "ipython",
    "version": 3
   },
   "file_extension": ".py",
   "mimetype": "text/x-python",
   "name": "python",
   "nbconvert_exporter": "python",
   "pygments_lexer": "ipython3",
   "version": "3.8.5"
  }
 },
 "nbformat": 4,
 "nbformat_minor": 4
}
